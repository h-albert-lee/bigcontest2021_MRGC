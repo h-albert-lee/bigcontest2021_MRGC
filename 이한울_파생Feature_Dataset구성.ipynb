{
 "cells": [
  {
   "cell_type": "code",
   "execution_count": 1,
   "metadata": {},
   "outputs": [],
   "source": [
    "import pandas as pd\n",
    "import numpy as np\n",
    "import re"
   ]
  },
  {
   "cell_type": "markdown",
   "metadata": {},
   "source": [
    "동별 매력도 feature 추출"
   ]
  },
  {
   "cell_type": "code",
   "execution_count": null,
   "metadata": {},
   "outputs": [],
   "source": [
    "temp  = pd.read_csv('/home/jovyan/WIDE_HOME/CompetitionData/선도소프트/population_move(2020).csv')\n",
    "temp = temp[temp['TRNSFRN_CTPRVN']=='서울특별시']\n",
    "pivot = pd.pivot_table(temp,index =\"TRNSFRN_EMD\" , columns =\"TRNSFRN_REASON\", values = \"TRNSFRN_CTPRVN\", aggfunc = 'count' )\n",
    "pivot.drop(['가족', '건강', '교육', '기타'], axis = 1, inplace = True)"
   ]
  },
  {
   "cell_type": "code",
   "execution_count": null,
   "metadata": {},
   "outputs": [],
   "source": [
    "from sklearn.preprocessing import MinMaxScaler\n",
    "Scaler = MinMaxScaler()\n",
    "Scaler.fit(pivot)\n",
    "Scaled = Scaler.transform(pivot)\n",
    "pivot2 = pd.DataFrame(Scaled, index = pivot2.index, columns = pivot2.columns )\n",
    "pivot2.to_csv('/home/jovyan/WIDE_HOME/동별매력지수.csv')"
   ]
  },
  {
   "cell_type": "markdown",
   "metadata": {},
   "source": [
    "동별 사업체 밀도 feature 추출"
   ]
  },
  {
   "cell_type": "code",
   "execution_count": null,
   "metadata": {},
   "outputs": [],
   "source": [
    "url = '/home/jovyan/WIDE_HOME/동별 사업체 및 종사자 밀도.txt'\n",
    "dataset = pd.read_csv(url, sep = '\\t')\n",
    "dataset.drop(['기간', '자치구','사업체수', '종사자수', '평균종사자','종사자밀도(A)',\n",
    "       '인구밀도(B)', '종사자밀도비(A/B*100)'], axis = 1, inplace = True)\n",
    "dataset.to_csv('/home/jovyan/WIDE_HOME/동별사업체밀도.csv')"
   ]
  },
  {
   "cell_type": "markdown",
   "metadata": {},
   "source": [
    "동별 사업체 창업률 feature 추출"
   ]
  },
  {
   "cell_type": "code",
   "execution_count": null,
   "metadata": {},
   "outputs": [],
   "source": [
    "url = '/home/jovyan/WIDE_HOME/동별 사업체 창업률.txt'\n",
    "dataset = pd.read_csv(url, sep = '\\t')\n",
    "dataset.drop(['자치구','기간', '사업체수', '종사자수','평균종사자'], axis = 1, inplace = True)\n",
    "dataset.drop([0,1], axis = 0, inplace = True)\n",
    "dataset.index = range(448)\n",
    "dataset.to_csv('/home/jovyan/WIDE_HOME/동별창업매력도.csv')"
   ]
  },
  {
   "cell_type": "markdown",
   "metadata": {},
   "source": [
    "지리적 거리도 추출"
   ]
  },
  {
   "cell_type": "code",
   "execution_count": null,
   "metadata": {},
   "outputs": [],
   "source": [
    "data  = pd.read_csv('/home/jovyan/WIDE_HOME/유수빈/빌딩+평당금액.csv')\n",
    "long_distance = pd.DataFrame(index = range(1985), columns = range(1985))\n",
    "lati_distance = pd.DataFrame(index = range(1985), columns = range(1985))\n",
    "\n",
    "long = data['경도']\n",
    "lati = data['위도']\n",
    "\n",
    "for i in range(1985):\n",
    "    for j in range(1985):\n",
    "        long_distance[i][j] = abs(long[i] - long[j])\n",
    "        \n",
    "for i in range(1985):\n",
    "    for j in range(1985):\n",
    "        lati_distance[i][j] = abs(lati[i] - lati[j])\n",
    "        \n",
    "geographic_distance = (long_distance*100)*(lati_distance*100) #거리곱은 매우 작아지기 때문에, 미리 스케일링을 위해 100씩 곱해줌\n",
    "geographic_distance.to_csv('./지리적거리도.csv')"
   ]
  },
  {
   "cell_type": "markdown",
   "metadata": {},
   "source": [
    "Features load 및 Dataset 구성"
   ]
  },
  {
   "cell_type": "code",
   "execution_count": 2,
   "metadata": {},
   "outputs": [],
   "source": [
    "data  = pd.read_csv('/home/jovyan/WIDE_HOME/유수빈/빌딩+평당금액.csv') #평당금액까지 합친 dataset을 load합니다"
   ]
  },
  {
   "cell_type": "code",
   "execution_count": 3,
   "metadata": {},
   "outputs": [],
   "source": [
    "Attractor = pd.read_csv('/home/jovyan/WIDE_HOME/동별매력지수.csv' ) #서울 열린 데이터광장 동별 전입지 이동사유별 인구이동 통계"
   ]
  },
  {
   "cell_type": "code",
   "execution_count": 4,
   "metadata": {},
   "outputs": [],
   "source": [
    "Attractor.columns = ['동이름', '교통', '주택', '직업']"
   ]
  },
  {
   "cell_type": "code",
   "execution_count": 5,
   "metadata": {},
   "outputs": [],
   "source": [
    "Attractor['동이름'] = Attractor['동이름'].str.replace(r'[0-9]+', '')"
   ]
  },
  {
   "cell_type": "code",
   "execution_count": 6,
   "metadata": {},
   "outputs": [],
   "source": [
    "Attractor.index = Attractor['동이름']\n",
    "Attractor.drop(['동이름'], axis = 1, inplace = True)"
   ]
  },
  {
   "cell_type": "code",
   "execution_count": 7,
   "metadata": {},
   "outputs": [],
   "source": [
    "교통_dict = Attractor['교통'].to_dict()\n",
    "주택_dict = Attractor['주택'].to_dict()\n",
    "직업_dict = Attractor['직업'].to_dict()"
   ]
  },
  {
   "cell_type": "code",
   "execution_count": 8,
   "metadata": {},
   "outputs": [],
   "source": [
    "data['교통매력도'] = data['법정동명'].map(교통_dict)\n",
    "data['주택매력도'] = data['법정동명'].map(주택_dict)\n",
    "data['직업매력도'] = data['법정동명'].map(직업_dict)"
   ]
  },
  {
   "cell_type": "code",
   "execution_count": 9,
   "metadata": {},
   "outputs": [],
   "source": [
    "Potential_customers =  pd.read_excel('/home/jovyan/WIDE_HOME/동별생활인구데이터.xlsx' ) #서울시 생활인구 통계서비스 데이터\n",
    "Potential_customers['장년층'] = Potential_customers[['연령대_30_생활인구_수','연령대_40_생활인구_수', '연령대_50_생활인구_수']].transpose().mean()"
   ]
  },
  {
   "cell_type": "code",
   "execution_count": 10,
   "metadata": {},
   "outputs": [],
   "source": [
    "Potential_customers.drop(['남성_생활인구_수', '여성_생활인구_수','연령대_30_생활인구_수','연령대_40_생활인구_수', '연령대_50_생활인구_수'], axis = 1, inplace = True)"
   ]
  },
  {
   "cell_type": "code",
   "execution_count": 11,
   "metadata": {},
   "outputs": [],
   "source": [
    "Potential_customers.columns = ['동이름', '총생활인구', '청소년층', '청년층', '장년층']"
   ]
  },
  {
   "cell_type": "code",
   "execution_count": 12,
   "metadata": {},
   "outputs": [],
   "source": [
    "Potential_customers.index = Potential_customers['동이름']\n",
    "Potential_customers.drop(['동이름'], axis = 1, inplace = True)"
   ]
  },
  {
   "cell_type": "code",
   "execution_count": 13,
   "metadata": {},
   "outputs": [],
   "source": [
    "총생활_dict = Potential_customers['총생활인구'].to_dict()\n",
    "청소년_dict = Potential_customers['청소년층'].to_dict()\n",
    "청년_dict = Potential_customers['청년층'].to_dict()\n",
    "장년_dict = Potential_customers['장년층'].to_dict()"
   ]
  },
  {
   "cell_type": "code",
   "execution_count": 14,
   "metadata": {},
   "outputs": [],
   "source": [
    "data['총생활인구'] = data['법정동명'].map(총생활_dict)\n",
    "data['청소년생활인구'] = data['법정동명'].map(청소년_dict)\n",
    "data['청년생활인구'] = data['법정동명'].map(청년_dict)\n",
    "data['장년생활인구'] = data['법정동명'].map(장년_dict)"
   ]
  },
  {
   "cell_type": "code",
   "execution_count": 15,
   "metadata": {},
   "outputs": [],
   "source": [
    "Density = pd.read_csv('/home/jovyan/WIDE_HOME/동별사업체밀도.csv' )\n",
    "Density.drop(['Unnamed: 0'], axis = 1, inplace = True)"
   ]
  },
  {
   "cell_type": "code",
   "execution_count": 16,
   "metadata": {},
   "outputs": [],
   "source": [
    "Density['동'] = Density['동'].str.replace(r'[0-9]+', '')\n",
    "Density['사업체밀도'] = Density['사업체밀도'].str.replace(r',', '')\n",
    "Density['사업체밀도'] = Density['사업체밀도'].astype('int')"
   ]
  },
  {
   "cell_type": "code",
   "execution_count": 17,
   "metadata": {},
   "outputs": [],
   "source": [
    "Density.drop([0,1], axis = 0, inplace = True)\n",
    "Density = Density.groupby('동').mean()\n",
    "사업체밀도dict = Density['사업체밀도'].to_dict()"
   ]
  },
  {
   "cell_type": "code",
   "execution_count": 18,
   "metadata": {},
   "outputs": [],
   "source": [
    "data['사업체밀도'] = data['법정동명'].map(사업체밀도dict)"
   ]
  },
  {
   "cell_type": "code",
   "execution_count": 19,
   "metadata": {},
   "outputs": [],
   "source": [
    "#사업체창업률  = pd.read_csv('/home/jovyan/WIDE_HOME/동별창업매력도.csv')"
   ]
  },
  {
   "cell_type": "code",
   "execution_count": 20,
   "metadata": {},
   "outputs": [],
   "source": [
    "#start_up_rate = pd.read_csv('/home/jovyan/WIDE_HOME/동별창업매력도.csv') #서울시 열린데이터광장 동별 창업률 데이터\n",
    "#start_up_rate['동'] = start_up_rate['동'].str.replace(r'[0-9]+', '')"
   ]
  },
  {
   "cell_type": "code",
   "execution_count": 21,
   "metadata": {},
   "outputs": [],
   "source": [
    "#창업률dict = start_up_rate['사업체 창업률'].to_dict()\n",
    "#data['창업률'] = data['법정동명'].map(창업률dict)"
   ]
  },
  {
   "cell_type": "markdown",
   "metadata": {},
   "source": [
    "Null 값 제거"
   ]
  },
  {
   "cell_type": "code",
   "execution_count": 22,
   "metadata": {},
   "outputs": [],
   "source": [
    "Null_square = data[['경도', '위도','사업체 창업률','교통매력도', '주택매력도', '직업매력도', '총생활인구', '청소년생활인구',\n",
    "       '청년생활인구', '장년생활인구', '사업체밀도']]"
   ]
  },
  {
   "cell_type": "code",
   "execution_count": 23,
   "metadata": {},
   "outputs": [],
   "source": [
    "Geographic_distance_matrix = pd.read_csv('/home/jovyan/WIDE_HOME/이한울/지리적거리도.csv') #1985개 건물의 거리차이를 나타낸 1985 x 1985 matrix"
   ]
  },
  {
   "cell_type": "code",
   "execution_count": 24,
   "metadata": {},
   "outputs": [],
   "source": [
    "Geographic_distance_matrix.drop(['Unnamed: 0'], axis = 1, inplace = True)\n",
    "Geographic_distance_matrix = Geographic_distance_matrix.astype('float')"
   ]
  },
  {
   "cell_type": "code",
   "execution_count": 25,
   "metadata": {},
   "outputs": [],
   "source": [
    "Geographic_distance_matrix.columns = Geographic_distance_matrix.columns.astype('int')\n",
    "Geographic_distance_matrix.index = Geographic_distance_matrix.index.astype('int')"
   ]
  },
  {
   "cell_type": "code",
   "execution_count": 26,
   "metadata": {},
   "outputs": [],
   "source": [
    "Nearby = pd.DataFrame(index = range(1985), columns = ['near'])"
   ]
  },
  {
   "cell_type": "code",
   "execution_count": null,
   "metadata": {},
   "outputs": [
    {
     "name": "stderr",
     "output_type": "stream",
     "text": [
      "/opt/conda/lib/python3.7/site-packages/IPython/core/interactiveshell.py:3345: SettingWithCopyWarning: \n",
      "A value is trying to be set on a copy of a slice from a DataFrame\n",
      "\n",
      "See the caveats in the documentation: https://pandas.pydata.org/pandas-docs/stable/user_guide/indexing.html#returning-a-view-versus-a-copy\n",
      "  exec(code_obj, self.user_global_ns, self.user_ns)\n"
     ]
    }
   ],
   "source": [
    "for j in range(1,15): #경,위도 거리를 바탕으로 Null 값 처리\n",
    "    Near_plot = Geographic_distance_matrix < j #점점 허용가능한 거리를 확장\n",
    "    for i in range(1985):\n",
    "        Nearby['near'][i] = Near_plot.index[Near_plot[i]].to_list() #허용가능한 거리 내의 건물들 index 확인\n",
    "    for column in Null_square.columns:\n",
    "        for index in Null_square.index:\n",
    "            if np.isnan(Null_square[column][index]):\n",
    "                for each in Nearby['near'][index]:\n",
    "                    empty_list = []\n",
    "                    empty_list.append(Null_square[column][each]) \n",
    "                Null_square[column][index] = np.array(empty_list).mean() #허용가능한 거리 내의 건물들의 feature값들을 평균\n"
   ]
  },
  {
   "cell_type": "code",
   "execution_count": null,
   "metadata": {},
   "outputs": [],
   "source": [
    "Null_square['법정동명'] = data['법정동명']\n",
    "Null_square['동코드'] = data['법정동 동 코드 '].astype('int')\n",
    "Check_point = ['사업체 창업률', '교통매력도', '주택매력도', '직업매력도', '총생활인구', '청소년생활인구',\n",
    "       '청년생활인구', '장년생활인구', '사업체밀도']"
   ]
  },
  {
   "cell_type": "code",
   "execution_count": null,
   "metadata": {},
   "outputs": [],
   "source": [
    "for column in Check_point: #같은 법정동 내에 위,경도 지리도를 통해 채워진 Null 값이 있을 경우, 해당 값들을 평균내어 같은 법정동 내 Null 값 제거\n",
    "    for index in range(1985):\n",
    "        if np.isnan(Null_square[column][index]) :\n",
    "            법정동 = Null_square['법정동명'][index]\n",
    "            To_check = Null_square[Null_square['법정동명']==법정동]\n",
    "            Null_square[column][index] = To_check[column].mean()\n",
    "            "
   ]
  },
  {
   "cell_type": "code",
   "execution_count": null,
   "metadata": {},
   "outputs": [],
   "source": [
    "for column in Check_point: #법정동 코드 상 인접 구역의 값들로 Null 값 제거\n",
    "    for index in range(1985):\n",
    "        if np.isnan(Null_square[column][index]) :\n",
    "            Code = Null_square['동코드'][index]\n",
    "            Codes = np.array([Code, Code+100, Code-100, Code+200, Code-200, Code+300, Code-300])\n",
    "            for dong in Codes:\n",
    "                Matrix = Null_square[Null_square['동코드']== dong]\n",
    "                if np.isnan(Matrix[column].mean()):\n",
    "                    pass\n",
    "                elif np.isnan(Null_square[column][index]):\n",
    "                    Null_square[column][index] = Matrix[column].mean()\n",
    "                else:\n",
    "                    pass\n",
    "      "
   ]
  },
  {
   "cell_type": "code",
   "execution_count": null,
   "metadata": {},
   "outputs": [],
   "source": [
    "data['사업체 창업률'] = Null_square['사업체 창업률']\n",
    "data['교통매력도'] = Null_square['교통매력도']\n",
    "data['주택매력도'] = Null_square['주택매력도']\n",
    "data['직업매력도'] = Null_square['직업매력도']\n",
    "data['총생활인구'] = Null_square['총생활인구']\n",
    "data['청소년생활인구'] = Null_square['청소년생활인구']\n",
    "data['청년생활인구'] = Null_square['청년생활인구']\n",
    "data['장년생활인구'] = Null_square['장년생활인구']\n",
    "data['사업체밀도'] = Null_square['사업체밀도']"
   ]
  },
  {
   "cell_type": "code",
   "execution_count": null,
   "metadata": {},
   "outputs": [],
   "source": [
    "data.to_csv('/home/jovyan/WIDE_HOME/Null제거_dataset2.csv')"
   ]
  },
  {
   "cell_type": "code",
   "execution_count": null,
   "metadata": {},
   "outputs": [],
   "source": []
  },
  {
   "cell_type": "code",
   "execution_count": null,
   "metadata": {},
   "outputs": [],
   "source": []
  },
  {
   "cell_type": "code",
   "execution_count": null,
   "metadata": {},
   "outputs": [],
   "source": []
  },
  {
   "cell_type": "code",
   "execution_count": null,
   "metadata": {},
   "outputs": [],
   "source": []
  },
  {
   "cell_type": "code",
   "execution_count": null,
   "metadata": {},
   "outputs": [],
   "source": []
  },
  {
   "cell_type": "code",
   "execution_count": null,
   "metadata": {},
   "outputs": [],
   "source": []
  }
 ],
 "metadata": {
  "kernelspec": {
   "display_name": "Python 3",
   "language": "python",
   "name": "python3"
  },
  "language_info": {
   "codemirror_mode": {
    "name": "ipython",
    "version": 3
   },
   "file_extension": ".py",
   "mimetype": "text/x-python",
   "name": "python",
   "nbconvert_exporter": "python",
   "pygments_lexer": "ipython3",
   "version": "3.9.6"
  }
 },
 "nbformat": 4,
 "nbformat_minor": 2
}
