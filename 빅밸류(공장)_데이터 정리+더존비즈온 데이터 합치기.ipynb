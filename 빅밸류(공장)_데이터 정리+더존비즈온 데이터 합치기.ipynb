{
 "cells": [
  {
   "cell_type": "markdown",
   "metadata": {},
   "source": [
    "# 1. 빅벨류-산단정보-등록공장 데이터 가져오기"
   ]
  },
  {
   "cell_type": "code",
   "execution_count": 18,
   "metadata": {},
   "outputs": [
    {
     "data": {
      "text/html": [
       "<div>\n",
       "<style scoped>\n",
       "    .dataframe tbody tr th:only-of-type {\n",
       "        vertical-align: middle;\n",
       "    }\n",
       "\n",
       "    .dataframe tbody tr th {\n",
       "        vertical-align: top;\n",
       "    }\n",
       "\n",
       "    .dataframe thead th {\n",
       "        text-align: right;\n",
       "    }\n",
       "</style>\n",
       "<table border=\"1\" class=\"dataframe\">\n",
       "  <thead>\n",
       "    <tr style=\"text-align: right;\">\n",
       "      <th></th>\n",
       "      <th>REG_ID</th>\n",
       "      <th>IC_ADMIN</th>\n",
       "      <th>FIRM_NAME</th>\n",
       "      <th>IC_NAME</th>\n",
       "      <th>IC_CLASS</th>\n",
       "      <th>REG_DATE</th>\n",
       "      <th>TEL</th>\n",
       "      <th>EMP_NUM</th>\n",
       "      <th>PRODUCTS</th>\n",
       "      <th>IND_SIZE</th>\n",
       "      <th>...</th>\n",
       "      <th>POLL_WAT</th>\n",
       "      <th>POLL_NOI</th>\n",
       "      <th>LIV_WAT</th>\n",
       "      <th>IND_WAT</th>\n",
       "      <th>WEB</th>\n",
       "      <th>IND_TYPE</th>\n",
       "      <th>IND_CODE</th>\n",
       "      <th>ADDR</th>\n",
       "      <th>CAP_IN</th>\n",
       "      <th>CAP_OUT</th>\n",
       "    </tr>\n",
       "  </thead>\n",
       "  <tbody>\n",
       "    <tr>\n",
       "      <th>39485</th>\n",
       "      <td>10188196</td>\n",
       "      <td>경상남도 진주시</td>\n",
       "      <td>이룸P&amp;P</td>\n",
       "      <td>알수없음</td>\n",
       "      <td>일반</td>\n",
       "      <td>2.01605e+07</td>\n",
       "      <td>055-747-7970</td>\n",
       "      <td>7</td>\n",
       "      <td>골판지상자</td>\n",
       "      <td>소기업</td>\n",
       "      <td>...</td>\n",
       "      <td>해당없음</td>\n",
       "      <td>무</td>\n",
       "      <td>0.5</td>\n",
       "      <td>0</td>\n",
       "      <td>알수없음</td>\n",
       "      <td>골판지 제조업 외 1 종</td>\n",
       "      <td>17211, 17212</td>\n",
       "      <td>경상남도 진주시 대곡면 대화로 53-6</td>\n",
       "      <td>0</td>\n",
       "      <td>0</td>\n",
       "    </tr>\n",
       "  </tbody>\n",
       "</table>\n",
       "<p>1 rows × 25 columns</p>\n",
       "</div>"
      ],
      "text/plain": [
       "         REG_ID  IC_ADMIN FIRM_NAME IC_NAME IC_CLASS     REG_DATE  \\\n",
       "39485  10188196  경상남도 진주시     이룸P&P    알수없음       일반  2.01605e+07   \n",
       "\n",
       "                TEL  EMP_NUM PRODUCTS IND_SIZE  ... POLL_WAT POLL_NOI  \\\n",
       "39485  055-747-7970        7    골판지상자      소기업  ...     해당없음        무   \n",
       "\n",
       "       LIV_WAT  IND_WAT   WEB       IND_TYPE      IND_CODE  \\\n",
       "39485      0.5        0  알수없음  골판지 제조업 외 1 종  17211, 17212   \n",
       "\n",
       "                        ADDR CAP_IN CAP_OUT  \n",
       "39485  경상남도 진주시 대곡면 대화로 53-6      0       0  \n",
       "\n",
       "[1 rows x 25 columns]"
      ]
     },
     "execution_count": 18,
     "metadata": {},
     "output_type": "execute_result"
    }
   ],
   "source": [
    "# 산단정보 - 등록공장 데이터 가져오기\n",
    "\n",
    "import pandas as pd\n",
    "bigvalue  = pd.read_csv('../CompetitionData/빅밸류/IND_REGINFO_202105.csv', encoding = 'cp949', sep = '|')\n",
    "bigvalue.fillna('알수없음', inplace=True) # 널값 채우기\n",
    "bigvalue.sample()"
   ]
  },
  {
   "cell_type": "code",
   "execution_count": 19,
   "metadata": {},
   "outputs": [
    {
     "data": {
      "text/html": [
       "<div>\n",
       "<style scoped>\n",
       "    .dataframe tbody tr th:only-of-type {\n",
       "        vertical-align: middle;\n",
       "    }\n",
       "\n",
       "    .dataframe tbody tr th {\n",
       "        vertical-align: top;\n",
       "    }\n",
       "\n",
       "    .dataframe thead th {\n",
       "        text-align: right;\n",
       "    }\n",
       "</style>\n",
       "<table border=\"1\" class=\"dataframe\">\n",
       "  <thead>\n",
       "    <tr style=\"text-align: right;\">\n",
       "      <th></th>\n",
       "      <th>REG_ID</th>\n",
       "      <th>IC_ADMIN</th>\n",
       "      <th>FIRM_NAME</th>\n",
       "      <th>IC_NAME</th>\n",
       "      <th>IC_CLASS</th>\n",
       "      <th>REG_DATE</th>\n",
       "      <th>TEL</th>\n",
       "      <th>EMP_NUM</th>\n",
       "      <th>PRODUCTS</th>\n",
       "      <th>IND_SIZE</th>\n",
       "      <th>...</th>\n",
       "      <th>POLL_WAT</th>\n",
       "      <th>POLL_NOI</th>\n",
       "      <th>LIV_WAT</th>\n",
       "      <th>IND_WAT</th>\n",
       "      <th>WEB</th>\n",
       "      <th>IND_TYPE</th>\n",
       "      <th>IND_CODE</th>\n",
       "      <th>ADDR</th>\n",
       "      <th>CAP_IN</th>\n",
       "      <th>CAP_OUT</th>\n",
       "    </tr>\n",
       "  </thead>\n",
       "  <tbody>\n",
       "    <tr>\n",
       "      <th>71895</th>\n",
       "      <td>10007035</td>\n",
       "      <td>한국산업단지공단 서울지역본부</td>\n",
       "      <td>(주)성호라인</td>\n",
       "      <td>한국수출(서울디지털)</td>\n",
       "      <td>국가산업단지</td>\n",
       "      <td>2.01411e+07</td>\n",
       "      <td>02-3408-0515</td>\n",
       "      <td>25</td>\n",
       "      <td>수령증 인쇄 및 카드배송프로그램(어플리케이션 S/W) 개발</td>\n",
       "      <td>소기업</td>\n",
       "      <td>...</td>\n",
       "      <td>알수없음</td>\n",
       "      <td>알수없음</td>\n",
       "      <td>알수없음</td>\n",
       "      <td>알수없음</td>\n",
       "      <td>알수없음</td>\n",
       "      <td>기타 인쇄업 외 2 종</td>\n",
       "      <td>18113, 18119, 58222</td>\n",
       "      <td>서울특별시 금천구 디지털로9길 56, 8층 804호 (가산동, 코오롱테크노밸리) 외...</td>\n",
       "      <td>알수없음</td>\n",
       "      <td>알수없음</td>\n",
       "    </tr>\n",
       "  </tbody>\n",
       "</table>\n",
       "<p>1 rows × 25 columns</p>\n",
       "</div>"
      ],
      "text/plain": [
       "         REG_ID         IC_ADMIN FIRM_NAME      IC_NAME IC_CLASS     REG_DATE  \\\n",
       "71895  10007035  한국산업단지공단 서울지역본부   (주)성호라인  한국수출(서울디지털)   국가산업단지  2.01411e+07   \n",
       "\n",
       "                TEL  EMP_NUM                          PRODUCTS IND_SIZE  ...  \\\n",
       "71895  02-3408-0515       25  수령증 인쇄 및 카드배송프로그램(어플리케이션 S/W) 개발      소기업  ...   \n",
       "\n",
       "      POLL_WAT POLL_NOI  LIV_WAT  IND_WAT   WEB      IND_TYPE  \\\n",
       "71895     알수없음     알수없음     알수없음     알수없음  알수없음  기타 인쇄업 외 2 종   \n",
       "\n",
       "                  IND_CODE                                               ADDR  \\\n",
       "71895  18113, 18119, 58222  서울특별시 금천구 디지털로9길 56, 8층 804호 (가산동, 코오롱테크노밸리) 외...   \n",
       "\n",
       "      CAP_IN CAP_OUT  \n",
       "71895   알수없음    알수없음  \n",
       "\n",
       "[1 rows x 25 columns]"
      ]
     },
     "execution_count": 19,
     "metadata": {},
     "output_type": "execute_result"
    }
   ],
   "source": [
    "# 서울 내에 있는 기업 데이터를 가져오는 것이므로 위치가 서울인 데이터만 고르기\n",
    "seoul = bigvalue[bigvalue['IC_ADMIN'].str.contains('서울')]\n",
    "seoul.sample()"
   ]
  },
  {
   "cell_type": "code",
   "execution_count": 20,
   "metadata": {},
   "outputs": [
    {
     "name": "stderr",
     "output_type": "stream",
     "text": [
      "/opt/conda/lib/python3.7/site-packages/ipykernel_launcher.py:3: SettingWithCopyWarning: \n",
      "A value is trying to be set on a copy of a slice from a DataFrame.\n",
      "Try using .loc[row_indexer,col_indexer] = value instead\n",
      "\n",
      "See the caveats in the documentation: https://pandas.pydata.org/pandas-docs/stable/user_guide/indexing.html#returning-a-view-versus-a-copy\n",
      "  This is separate from the ipykernel package so we can avoid doing imports until\n"
     ]
    },
    {
     "data": {
      "text/html": [
       "<div>\n",
       "<style scoped>\n",
       "    .dataframe tbody tr th:only-of-type {\n",
       "        vertical-align: middle;\n",
       "    }\n",
       "\n",
       "    .dataframe tbody tr th {\n",
       "        vertical-align: top;\n",
       "    }\n",
       "\n",
       "    .dataframe thead th {\n",
       "        text-align: right;\n",
       "    }\n",
       "</style>\n",
       "<table border=\"1\" class=\"dataframe\">\n",
       "  <thead>\n",
       "    <tr style=\"text-align: right;\">\n",
       "      <th></th>\n",
       "      <th>IC_ADMIN</th>\n",
       "      <th>IND_TYPE</th>\n",
       "      <th>IND_CODE</th>\n",
       "      <th>ADDR</th>\n",
       "      <th>서울시구</th>\n",
       "    </tr>\n",
       "  </thead>\n",
       "  <tbody>\n",
       "    <tr>\n",
       "      <th>11400</th>\n",
       "      <td>한국산업단지공단 서울지역본부</td>\n",
       "      <td>방송장비 제조업 외 1 종</td>\n",
       "      <td>26421, 58222</td>\n",
       "      <td>서울특별시 금천구 가산디지털2로 98 (가산동, 아이티캐슬) (총 4 필지) 1동 ...</td>\n",
       "      <td>서울특별시 금천구</td>\n",
       "    </tr>\n",
       "  </tbody>\n",
       "</table>\n",
       "</div>"
      ],
      "text/plain": [
       "              IC_ADMIN        IND_TYPE      IND_CODE  \\\n",
       "11400  한국산업단지공단 서울지역본부  방송장비 제조업 외 1 종  26421, 58222   \n",
       "\n",
       "                                                    ADDR       서울시구  \n",
       "11400  서울특별시 금천구 가산디지털2로 98 (가산동, 아이티캐슬) (총 4 필지) 1동 ...  서울특별시 금천구  "
      ]
     },
     "execution_count": 20,
     "metadata": {},
     "output_type": "execute_result"
    }
   ],
   "source": [
    "# 서울시구만 고르기\n",
    "seoul_select = seoul[['IC_ADMIN', 'IND_TYPE', 'IND_CODE', 'ADDR']]\n",
    "seoul_select['서울시구']= seoul_select['ADDR'].apply(lambda x :str(x)[:9]) \n",
    "seoul_select.reset_index(inplace=True, drop=True)\n",
    "seoul_select.sample()"
   ]
  },
  {
   "cell_type": "code",
   "execution_count": 21,
   "metadata": {},
   "outputs": [
    {
     "name": "stderr",
     "output_type": "stream",
     "text": [
      "/opt/conda/lib/python3.7/site-packages/IPython/core/interactiveshell.py:3345: SettingWithCopyWarning: \n",
      "A value is trying to be set on a copy of a slice from a DataFrame\n",
      "\n",
      "See the caveats in the documentation: https://pandas.pydata.org/pandas-docs/stable/user_guide/indexing.html#returning-a-view-versus-a-copy\n",
      "  exec(code_obj, self.user_global_ns, self.user_ns)\n"
     ]
    },
    {
     "data": {
      "text/html": [
       "<div>\n",
       "<style scoped>\n",
       "    .dataframe tbody tr th:only-of-type {\n",
       "        vertical-align: middle;\n",
       "    }\n",
       "\n",
       "    .dataframe tbody tr th {\n",
       "        vertical-align: top;\n",
       "    }\n",
       "\n",
       "    .dataframe thead th {\n",
       "        text-align: right;\n",
       "    }\n",
       "</style>\n",
       "<table border=\"1\" class=\"dataframe\">\n",
       "  <thead>\n",
       "    <tr style=\"text-align: right;\">\n",
       "      <th></th>\n",
       "      <th>IC_ADMIN</th>\n",
       "      <th>IND_TYPE</th>\n",
       "      <th>IND_CODE</th>\n",
       "      <th>ADDR</th>\n",
       "      <th>서울시구</th>\n",
       "    </tr>\n",
       "  </thead>\n",
       "  <tbody>\n",
       "    <tr>\n",
       "      <th>0</th>\n",
       "      <td>서울특별시 종로구</td>\n",
       "      <td>경 인쇄업 외 2 종</td>\n",
       "      <td>18111</td>\n",
       "      <td>서울특별시 종로구 자하문로16길 8 (창성동)</td>\n",
       "      <td>서울특별시 종로구</td>\n",
       "    </tr>\n",
       "    <tr>\n",
       "      <th>0</th>\n",
       "      <td>서울특별시 종로구</td>\n",
       "      <td>경 인쇄업 외 2 종</td>\n",
       "      <td>18113</td>\n",
       "      <td>서울특별시 종로구 자하문로16길 8 (창성동)</td>\n",
       "      <td>서울특별시 종로구</td>\n",
       "    </tr>\n",
       "    <tr>\n",
       "      <th>0</th>\n",
       "      <td>서울특별시 종로구</td>\n",
       "      <td>경 인쇄업 외 2 종</td>\n",
       "      <td>18119</td>\n",
       "      <td>서울특별시 종로구 자하문로16길 8 (창성동)</td>\n",
       "      <td>서울특별시 종로구</td>\n",
       "    </tr>\n",
       "  </tbody>\n",
       "</table>\n",
       "</div>"
      ],
      "text/plain": [
       "    IC_ADMIN     IND_TYPE IND_CODE                       ADDR       서울시구\n",
       "0  서울특별시 종로구  경 인쇄업 외 2 종    18111  서울특별시 종로구 자하문로16길 8 (창성동)  서울특별시 종로구\n",
       "0  서울특별시 종로구  경 인쇄업 외 2 종    18113  서울특별시 종로구 자하문로16길 8 (창성동)  서울특별시 종로구\n",
       "0  서울특별시 종로구  경 인쇄업 외 2 종    18119  서울특별시 종로구 자하문로16길 8 (창성동)  서울특별시 종로구"
      ]
     },
     "execution_count": 21,
     "metadata": {},
     "output_type": "execute_result"
    }
   ],
   "source": [
    "# 같은 기업이라도 업종코드(IND_CODE)가 여러개인 기업이 있다.\n",
    "# 이 경우 해당 기업 개수 늘려서 업종 코드 분리하기\n",
    "for i in range(len(seoul_select)):\n",
    "    seoul_select['IND_CODE'][i] = list(seoul_select['IND_CODE'][i].split(', '))\n",
    "\n",
    "# explode로 늘리기\n",
    "seoul_select_explode = seoul_select.explode('IND_CODE')\n",
    "seoul_select_explode.head(3)"
   ]
  },
  {
   "cell_type": "code",
   "execution_count": null,
   "metadata": {},
   "outputs": [],
   "source": []
  },
  {
   "cell_type": "code",
   "execution_count": null,
   "metadata": {},
   "outputs": [],
   "source": []
  },
  {
   "cell_type": "markdown",
   "metadata": {},
   "source": [
    "# 2. 업종 코드 정리하기 - 고용노동부_업종코드\n",
    "- 출처: https://www.data.go.kr/data/15049592/fileData.do"
   ]
  },
  {
   "cell_type": "code",
   "execution_count": 23,
   "metadata": {},
   "outputs": [
    {
     "data": {
      "text/html": [
       "<div>\n",
       "<style scoped>\n",
       "    .dataframe tbody tr th:only-of-type {\n",
       "        vertical-align: middle;\n",
       "    }\n",
       "\n",
       "    .dataframe tbody tr th {\n",
       "        vertical-align: top;\n",
       "    }\n",
       "\n",
       "    .dataframe thead th {\n",
       "        text-align: right;\n",
       "    }\n",
       "</style>\n",
       "<table border=\"1\" class=\"dataframe\">\n",
       "  <thead>\n",
       "    <tr style=\"text-align: right;\">\n",
       "      <th></th>\n",
       "      <th>대분류</th>\n",
       "      <th>중분류</th>\n",
       "      <th>소분류</th>\n",
       "      <th>업종코드</th>\n",
       "      <th>업종명</th>\n",
       "    </tr>\n",
       "  </thead>\n",
       "  <tbody>\n",
       "    <tr>\n",
       "      <th>1335</th>\n",
       "      <td>G</td>\n",
       "      <td>45.0</td>\n",
       "      <td>452.0</td>\n",
       "      <td>45212</td>\n",
       "      <td>자동차용 전용 신품 부품 판매업</td>\n",
       "    </tr>\n",
       "  </tbody>\n",
       "</table>\n",
       "</div>"
      ],
      "text/plain": [
       "     대분류   중분류    소분류   업종코드                업종명\n",
       "1335   G  45.0  452.0  45212  자동차용 전용 신품 부품 판매업"
      ]
     },
     "execution_count": 23,
     "metadata": {},
     "output_type": "execute_result"
    }
   ],
   "source": [
    "import numpy as np\n",
    "\n",
    "# 고용노동부_업종코드 데이터 불러오기\n",
    "Industry_codes = pd.read_csv('../김은선/고용노동부_업종코드_20201006.csv', encoding='cp949')\n",
    "Industry_codes.sample()"
   ]
  },
  {
   "cell_type": "code",
   "execution_count": 24,
   "metadata": {},
   "outputs": [
    {
     "name": "stderr",
     "output_type": "stream",
     "text": [
      "/home/jovyan/.local/lib/python3.7/site-packages/pandas/core/indexing.py:845: SettingWithCopyWarning: \n",
      "A value is trying to be set on a copy of a slice from a DataFrame.\n",
      "Try using .loc[row_indexer,col_indexer] = value instead\n",
      "\n",
      "See the caveats in the documentation: https://pandas.pydata.org/pandas-docs/stable/user_guide/indexing.html#returning-a-view-versus-a-copy\n",
      "  self.obj[key] = _infer_fill_value(value)\n",
      "/home/jovyan/.local/lib/python3.7/site-packages/pandas/core/indexing.py:966: SettingWithCopyWarning: \n",
      "A value is trying to be set on a copy of a slice from a DataFrame.\n",
      "Try using .loc[row_indexer,col_indexer] = value instead\n",
      "\n",
      "See the caveats in the documentation: https://pandas.pydata.org/pandas-docs/stable/user_guide/indexing.html#returning-a-view-versus-a-copy\n",
      "  self.obj[item] = s\n"
     ]
    }
   ],
   "source": [
    "# 무량공처 팀에서 정한 업종 코드 타입 지정하기.\n",
    "# 노션/Datasets: 2019년귀속업종분류코드책자 참고.\n",
    "\n",
    "types = ['G', 'L', 'M', 'N', 'K', 'P', 'J']\n",
    "\n",
    "Industry_selected = Industry_codes[Industry_codes['대분류'].isin(types)]\n",
    "idx = Industry_selected[Industry_selected['대분류'] == 'G'].index\n",
    "Industry_selected.loc[idx, '업종'] = '도매 및 소매업'\n",
    "\n",
    "idx = Industry_selected[Industry_selected['대분류'] == 'L'].index\n",
    "Industry_selected.loc[idx, '업종'] = '부동산업'\n",
    "\n",
    "idx = Industry_selected[Industry_selected['대분류'] == 'M'].index\n",
    "Industry_selected.loc[idx, '업종'] = '전문, 과학 및 기술 서비스업'\n",
    "\n",
    "idx = Industry_selected[Industry_selected['대분류'] == 'N'].index\n",
    "Industry_selected.loc[idx, '업종'] = '사업시설 관리, 사업지원 및 임대 서비스업'\n",
    "\n",
    "idx = Industry_selected[Industry_selected['대분류'] == 'K'].index\n",
    "Industry_selected.loc[idx, '업종'] = '금융 및 보험업'\n",
    "\n",
    "idx = Industry_selected[Industry_selected['대분류'] == 'P'].index\n",
    "Industry_selected.loc[idx, '업종'] = '교육 서비스업'\n",
    "\n",
    "idx = Industry_selected[Industry_selected['대분류'] == 'J'].index\n",
    "Industry_selected.loc[idx, '업종'] = '정보통신업'"
   ]
  },
  {
   "cell_type": "code",
   "execution_count": 25,
   "metadata": {},
   "outputs": [
    {
     "data": {
      "text/html": [
       "<div>\n",
       "<style scoped>\n",
       "    .dataframe tbody tr th:only-of-type {\n",
       "        vertical-align: middle;\n",
       "    }\n",
       "\n",
       "    .dataframe tbody tr th {\n",
       "        vertical-align: top;\n",
       "    }\n",
       "\n",
       "    .dataframe thead th {\n",
       "        text-align: right;\n",
       "    }\n",
       "</style>\n",
       "<table border=\"1\" class=\"dataframe\">\n",
       "  <thead>\n",
       "    <tr style=\"text-align: right;\">\n",
       "      <th></th>\n",
       "      <th>대분류</th>\n",
       "      <th>중분류</th>\n",
       "      <th>소분류</th>\n",
       "      <th>업종코드</th>\n",
       "      <th>업종명</th>\n",
       "      <th>업종</th>\n",
       "    </tr>\n",
       "  </thead>\n",
       "  <tbody>\n",
       "    <tr>\n",
       "      <th>1928</th>\n",
       "      <td>M</td>\n",
       "      <td>71.0</td>\n",
       "      <td>715.0</td>\n",
       "      <td>7153</td>\n",
       "      <td>경영 컨설팅 및 공공 관계 서비스업</td>\n",
       "      <td>전문, 과학 및 기술 서비스업</td>\n",
       "    </tr>\n",
       "  </tbody>\n",
       "</table>\n",
       "</div>"
      ],
      "text/plain": [
       "     대분류   중분류    소분류  업종코드                  업종명                업종\n",
       "1928   M  71.0  715.0  7153  경영 컨설팅 및 공공 관계 서비스업  전문, 과학 및 기술 서비스업"
      ]
     },
     "execution_count": 25,
     "metadata": {},
     "output_type": "execute_result"
    }
   ],
   "source": [
    "Industry_selected.sample()"
   ]
  },
  {
   "cell_type": "code",
   "execution_count": null,
   "metadata": {},
   "outputs": [],
   "source": []
  },
  {
   "cell_type": "code",
   "execution_count": null,
   "metadata": {},
   "outputs": [],
   "source": []
  },
  {
   "cell_type": "markdown",
   "metadata": {},
   "source": [
    "# 3. 빅벨류 데이터에서의 업종코드 정리하기 (위 고용노동부 데이터 참고)"
   ]
  },
  {
   "cell_type": "code",
   "execution_count": 49,
   "metadata": {},
   "outputs": [
    {
     "data": {
      "text/html": [
       "<div>\n",
       "<style scoped>\n",
       "    .dataframe tbody tr th:only-of-type {\n",
       "        vertical-align: middle;\n",
       "    }\n",
       "\n",
       "    .dataframe tbody tr th {\n",
       "        vertical-align: top;\n",
       "    }\n",
       "\n",
       "    .dataframe thead th {\n",
       "        text-align: right;\n",
       "    }\n",
       "</style>\n",
       "<table border=\"1\" class=\"dataframe\">\n",
       "  <thead>\n",
       "    <tr style=\"text-align: right;\">\n",
       "      <th></th>\n",
       "      <th>IC_ADMIN</th>\n",
       "      <th>ADDR</th>\n",
       "      <th>서울시구</th>\n",
       "      <th>업종</th>\n",
       "    </tr>\n",
       "  </thead>\n",
       "  <tbody>\n",
       "    <tr>\n",
       "      <th>0</th>\n",
       "      <td>서울특별시 종로구</td>\n",
       "      <td>서울특별시 종로구 자하문로1길 41 (필운동)</td>\n",
       "      <td>서울특별시 종로구</td>\n",
       "      <td>정보통신업</td>\n",
       "    </tr>\n",
       "    <tr>\n",
       "      <th>1</th>\n",
       "      <td>서울특별시 종로구</td>\n",
       "      <td>서울특별시 종로구 수표로26길 12, 405호 (낙원동, 파고다빌딩)</td>\n",
       "      <td>서울특별시 종로구</td>\n",
       "      <td>도매 및 소매업</td>\n",
       "    </tr>\n",
       "    <tr>\n",
       "      <th>2</th>\n",
       "      <td>서울특별시 종로구</td>\n",
       "      <td>서울특별시 종로구 통일로16길 5 (무악동)</td>\n",
       "      <td>서울특별시 종로구</td>\n",
       "      <td>정보통신업</td>\n",
       "    </tr>\n",
       "  </tbody>\n",
       "</table>\n",
       "</div>"
      ],
      "text/plain": [
       "    IC_ADMIN                                    ADDR       서울시구        업종\n",
       "0  서울특별시 종로구               서울특별시 종로구 자하문로1길 41 (필운동)  서울특별시 종로구     정보통신업\n",
       "1  서울특별시 종로구  서울특별시 종로구 수표로26길 12, 405호 (낙원동, 파고다빌딩)  서울특별시 종로구  도매 및 소매업\n",
       "2  서울특별시 종로구                서울특별시 종로구 통일로16길 5 (무악동)  서울특별시 종로구     정보통신업"
      ]
     },
     "execution_count": 49,
     "metadata": {},
     "output_type": "execute_result"
    }
   ],
   "source": [
    "seoul_select_explode['organized_업종명'] = '알수없음' # 정리된 업종명 칼럼 지정하기\n",
    "\n",
    "merged_seoul = pd.merge(seoul_select_explode, Industry_selected, how='left', left_on='IND_CODE', right_on='업종코드')\n",
    "merged_seoul = merged_seoul.dropna()\n",
    "merged_seoul.reset_index(inplace=True, drop=True)\n",
    "\n",
    "merged_seoul = merged_seoul[['IC_ADMIN', 'ADDR', '서울시구', '업종']] # 필요한 칼럼만 가져오기\n",
    "merged_seoul.head(3)"
   ]
  },
  {
   "cell_type": "code",
   "execution_count": 50,
   "metadata": {},
   "outputs": [
    {
     "data": {
      "text/plain": [
       "정보통신업                      609\n",
       "전문, 과학 및 기술 서비스업           265\n",
       "도매 및 소매업                    35\n",
       "부동산업                        27\n",
       "사업시설 관리, 사업지원 및 임대 서비스업      9\n",
       "Name: 업종, dtype: int64"
      ]
     },
     "execution_count": 50,
     "metadata": {},
     "output_type": "execute_result"
    }
   ],
   "source": [
    "# 업종별 개수 확인\n",
    "merged_seoul['업종'].value_counts()"
   ]
  },
  {
   "cell_type": "code",
   "execution_count": null,
   "metadata": {},
   "outputs": [],
   "source": []
  },
  {
   "cell_type": "code",
   "execution_count": null,
   "metadata": {},
   "outputs": [],
   "source": []
  },
  {
   "cell_type": "markdown",
   "metadata": {},
   "source": [
    "# 4. 해당 기업 데이터에 위도/경도 붙이기"
   ]
  },
  {
   "cell_type": "code",
   "execution_count": 51,
   "metadata": {},
   "outputs": [
    {
     "data": {
      "text/html": [
       "<div>\n",
       "<style scoped>\n",
       "    .dataframe tbody tr th:only-of-type {\n",
       "        vertical-align: middle;\n",
       "    }\n",
       "\n",
       "    .dataframe tbody tr th {\n",
       "        vertical-align: top;\n",
       "    }\n",
       "\n",
       "    .dataframe thead th {\n",
       "        text-align: right;\n",
       "    }\n",
       "</style>\n",
       "<table border=\"1\" class=\"dataframe\">\n",
       "  <thead>\n",
       "    <tr style=\"text-align: right;\">\n",
       "      <th></th>\n",
       "      <th>IC_ADMIN</th>\n",
       "      <th>ADDR</th>\n",
       "      <th>서울시구</th>\n",
       "      <th>업종</th>\n",
       "    </tr>\n",
       "  </thead>\n",
       "  <tbody>\n",
       "    <tr>\n",
       "      <th>0</th>\n",
       "      <td>서울특별시 종로구</td>\n",
       "      <td>서울특별시 종로구 자하문로1길 41 (필운동)</td>\n",
       "      <td>서울특별시 종로구</td>\n",
       "      <td>정보통신업</td>\n",
       "    </tr>\n",
       "    <tr>\n",
       "      <th>1</th>\n",
       "      <td>서울특별시 종로구</td>\n",
       "      <td>서울특별시 종로구 수표로26길 12, 405호 (낙원동, 파고다빌딩)</td>\n",
       "      <td>서울특별시 종로구</td>\n",
       "      <td>도매 및 소매업</td>\n",
       "    </tr>\n",
       "    <tr>\n",
       "      <th>2</th>\n",
       "      <td>서울특별시 종로구</td>\n",
       "      <td>서울특별시 종로구 통일로16길 5 (무악동)</td>\n",
       "      <td>서울특별시 종로구</td>\n",
       "      <td>정보통신업</td>\n",
       "    </tr>\n",
       "  </tbody>\n",
       "</table>\n",
       "</div>"
      ],
      "text/plain": [
       "    IC_ADMIN                                    ADDR       서울시구        업종\n",
       "0  서울특별시 종로구               서울특별시 종로구 자하문로1길 41 (필운동)  서울특별시 종로구     정보통신업\n",
       "1  서울특별시 종로구  서울특별시 종로구 수표로26길 12, 405호 (낙원동, 파고다빌딩)  서울특별시 종로구  도매 및 소매업\n",
       "2  서울특별시 종로구                서울특별시 종로구 통일로16길 5 (무악동)  서울특별시 종로구     정보통신업"
      ]
     },
     "execution_count": 51,
     "metadata": {},
     "output_type": "execute_result"
    }
   ],
   "source": [
    "# 확실히 하기 위해 '서울'과 중복 데이터 제거\n",
    "merged_seoul = merged_seoul[merged_seoul['서울시구'].str.contains('서울')]\n",
    "merged_seoul = merged_seoul.drop_duplicates()\n",
    "merged_seoul.reset_index(inplace=True, drop=True)\n",
    "merged_seoul.head(3)"
   ]
  },
  {
   "cell_type": "code",
   "execution_count": 52,
   "metadata": {},
   "outputs": [],
   "source": [
    "# ADDR로부터 동 추출하기\n",
    "\n",
    "merged_seoul['동'] = '알수없음'\n",
    "\n",
    "for i in range(len(merged_seoul)):\n",
    "    \n",
    "    text = merged_seoul['ADDR'][i]\n",
    "    try:\n",
    "        idx1 = text.index('(')\n",
    "        idx2 = text.index(')')\n",
    "        text2 = text[idx1+1:idx2]\n",
    "    except:\n",
    "        text2 = text\n",
    "    \n",
    "    try:\n",
    "        idx3 = text2.index(',')\n",
    "        text2 = text2[:idx3]\n",
    "    except:\n",
    "        text2 = text2\n",
    "    \n",
    "    merged_seoul['동'][i] = text2"
   ]
  },
  {
   "cell_type": "code",
   "execution_count": 53,
   "metadata": {},
   "outputs": [
    {
     "name": "stderr",
     "output_type": "stream",
     "text": [
      "/opt/conda/lib/python3.7/site-packages/ipykernel_launcher.py:9: SettingWithCopyWarning: \n",
      "A value is trying to be set on a copy of a slice from a DataFrame.\n",
      "Try using .loc[row_indexer,col_indexer] = value instead\n",
      "\n",
      "See the caveats in the documentation: https://pandas.pydata.org/pandas-docs/stable/user_guide/indexing.html#returning-a-view-versus-a-copy\n",
      "  if __name__ == '__main__':\n"
     ]
    }
   ],
   "source": [
    "# 구 제거하기\n",
    "\n",
    "def cleansing_gu(text):\n",
    "    i = text.rfind('구 ')\n",
    "    return text[i+1:]\n",
    "\n",
    "\n",
    "for i in range(len(merged_seoul)):\n",
    "    merged_seoul[i:i+1]['ADDR']=cleansing_gu(merged_seoul.iloc[i]['ADDR']).rstrip()"
   ]
  },
  {
   "cell_type": "code",
   "execution_count": 54,
   "metadata": {},
   "outputs": [
    {
     "name": "stderr",
     "output_type": "stream",
     "text": [
      "/opt/conda/lib/python3.7/site-packages/ipykernel_launcher.py:19: SettingWithCopyWarning: \n",
      "A value is trying to be set on a copy of a slice from a DataFrame.\n",
      "Try using .loc[row_indexer,col_indexer] = value instead\n",
      "\n",
      "See the caveats in the documentation: https://pandas.pydata.org/pandas-docs/stable/user_guide/indexing.html#returning-a-view-versus-a-copy\n"
     ]
    }
   ],
   "source": [
    "# 구와 동을 제거한 구체적인 주소명만 남기기\n",
    "\n",
    "def cleansing_dong(text):\n",
    "    try:\n",
    "        idx = text.index(',')\n",
    "        text = text[:idx]\n",
    "    except:\n",
    "        pass\n",
    "    try:\n",
    "        idx = text.index('(')\n",
    "        text = text[:idx]\n",
    "    except:\n",
    "        pass\n",
    "    \n",
    "    return text\n",
    "\n",
    "\n",
    "for i in range(len(merged_seoul)):\n",
    "    merged_seoul[i:i+1]['ADDR']=cleansing_dong(merged_seoul.iloc[i]['ADDR']).rstrip()"
   ]
  },
  {
   "cell_type": "code",
   "execution_count": 55,
   "metadata": {},
   "outputs": [
    {
     "data": {
      "text/html": [
       "<div>\n",
       "<style scoped>\n",
       "    .dataframe tbody tr th:only-of-type {\n",
       "        vertical-align: middle;\n",
       "    }\n",
       "\n",
       "    .dataframe tbody tr th {\n",
       "        vertical-align: top;\n",
       "    }\n",
       "\n",
       "    .dataframe thead th {\n",
       "        text-align: right;\n",
       "    }\n",
       "</style>\n",
       "<table border=\"1\" class=\"dataframe\">\n",
       "  <thead>\n",
       "    <tr style=\"text-align: right;\">\n",
       "      <th></th>\n",
       "      <th>IC_ADMIN</th>\n",
       "      <th>ADDR</th>\n",
       "      <th>서울시구</th>\n",
       "      <th>업종</th>\n",
       "      <th>동</th>\n",
       "    </tr>\n",
       "  </thead>\n",
       "  <tbody>\n",
       "    <tr>\n",
       "      <th>0</th>\n",
       "      <td>서울특별시 종로구</td>\n",
       "      <td>자하문로1길 41</td>\n",
       "      <td>서울특별시 종로구</td>\n",
       "      <td>정보통신업</td>\n",
       "      <td>필운동</td>\n",
       "    </tr>\n",
       "    <tr>\n",
       "      <th>1</th>\n",
       "      <td>서울특별시 종로구</td>\n",
       "      <td>수표로26길 12</td>\n",
       "      <td>서울특별시 종로구</td>\n",
       "      <td>도매 및 소매업</td>\n",
       "      <td>낙원동</td>\n",
       "    </tr>\n",
       "    <tr>\n",
       "      <th>2</th>\n",
       "      <td>서울특별시 종로구</td>\n",
       "      <td>통일로16길 5</td>\n",
       "      <td>서울특별시 종로구</td>\n",
       "      <td>정보통신업</td>\n",
       "      <td>무악동</td>\n",
       "    </tr>\n",
       "  </tbody>\n",
       "</table>\n",
       "</div>"
      ],
      "text/plain": [
       "    IC_ADMIN        ADDR       서울시구        업종    동\n",
       "0  서울특별시 종로구   자하문로1길 41  서울특별시 종로구     정보통신업  필운동\n",
       "1  서울특별시 종로구   수표로26길 12  서울특별시 종로구  도매 및 소매업  낙원동\n",
       "2  서울특별시 종로구    통일로16길 5  서울특별시 종로구     정보통신업  무악동"
      ]
     },
     "execution_count": 55,
     "metadata": {},
     "output_type": "execute_result"
    }
   ],
   "source": [
    "merged_seoul.head(3)"
   ]
  },
  {
   "cell_type": "code",
   "execution_count": null,
   "metadata": {},
   "outputs": [],
   "source": []
  },
  {
   "cell_type": "code",
   "execution_count": 56,
   "metadata": {},
   "outputs": [
    {
     "data": {
      "text/html": [
       "<div>\n",
       "<style scoped>\n",
       "    .dataframe tbody tr th:only-of-type {\n",
       "        vertical-align: middle;\n",
       "    }\n",
       "\n",
       "    .dataframe tbody tr th {\n",
       "        vertical-align: top;\n",
       "    }\n",
       "\n",
       "    .dataframe thead th {\n",
       "        text-align: right;\n",
       "    }\n",
       "</style>\n",
       "<table border=\"1\" class=\"dataframe\">\n",
       "  <thead>\n",
       "    <tr style=\"text-align: right;\">\n",
       "      <th></th>\n",
       "      <th>주소</th>\n",
       "      <th>lon</th>\n",
       "      <th>lat</th>\n",
       "    </tr>\n",
       "  </thead>\n",
       "  <tbody>\n",
       "    <tr>\n",
       "      <th>0</th>\n",
       "      <td>서울특별시 종로구 청운동 자하문로 94 0</td>\n",
       "      <td>126.970406</td>\n",
       "      <td>37.584415</td>\n",
       "    </tr>\n",
       "    <tr>\n",
       "      <th>1</th>\n",
       "      <td>서울특별시 종로구 청운동 자하문로 96 0</td>\n",
       "      <td>126.970423</td>\n",
       "      <td>37.584513</td>\n",
       "    </tr>\n",
       "    <tr>\n",
       "      <th>2</th>\n",
       "      <td>서울특별시 종로구 청운동 자하문로 98 0</td>\n",
       "      <td>126.970394</td>\n",
       "      <td>37.584697</td>\n",
       "    </tr>\n",
       "  </tbody>\n",
       "</table>\n",
       "</div>"
      ],
      "text/plain": [
       "                        주소         lon        lat\n",
       "0  서울특별시 종로구 청운동 자하문로 94 0  126.970406  37.584415\n",
       "1  서울특별시 종로구 청운동 자하문로 96 0  126.970423  37.584513\n",
       "2  서울특별시 종로구 청운동 자하문로 98 0  126.970394  37.584697"
      ]
     },
     "execution_count": 56,
     "metadata": {},
     "output_type": "execute_result"
    }
   ],
   "source": [
    "# 필요한 위도경도 데이터 불러오기\n",
    "geo=pd.read_excel('/home/jovyan/WIDE_HOME//유수빈/add.xlsx')\n",
    "geo.drop('Unnamed: 0', axis=1, inplace=True)\n",
    "geo.head(3)"
   ]
  },
  {
   "cell_type": "code",
   "execution_count": 57,
   "metadata": {},
   "outputs": [
    {
     "name": "stderr",
     "output_type": "stream",
     "text": [
      "100%|██████████| 768/768 [02:53<00:00,  4.57it/s]\n"
     ]
    }
   ],
   "source": [
    "# 위 주소에 해당이 되는 건물들의 위도와 경도 가져와서 합치기\n",
    "\n",
    "from tqdm import tqdm\n",
    "\n",
    "merged_seoul['lon'] = 0.0\n",
    "merged_seoul['lat'] = 0.0\n",
    "\n",
    "for i in tqdm(range(len(merged_seoul))):\n",
    "    try:\n",
    "        idx = geo[geo['주소'].str.contains(merged_seoul['ADDR'][i])].index\n",
    "        lon = geo.iloc[idx]['lon'].values[0]\n",
    "        lat = geo.iloc[idx]['lat'].values[0]\n",
    "    except:\n",
    "        lon = 0.0\n",
    "        lat = 0.0\n",
    "    \n",
    "    merged_seoul.loc[i, 'lon'] = lon\n",
    "    merged_seoul.loc[i, 'lat'] = lat"
   ]
  },
  {
   "cell_type": "code",
   "execution_count": 58,
   "metadata": {},
   "outputs": [
    {
     "name": "stderr",
     "output_type": "stream",
     "text": [
      "/opt/conda/lib/python3.7/site-packages/ipykernel_launcher.py:6: SettingWithCopyWarning: \n",
      "A value is trying to be set on a copy of a slice from a DataFrame\n",
      "\n",
      "See the caveats in the documentation: https://pandas.pydata.org/pandas-docs/stable/user_guide/indexing.html#returning-a-view-versus-a-copy\n",
      "  \n"
     ]
    }
   ],
   "source": [
    "# 동도로명과 구 칼럼 정리\n",
    "merged_seoul['동도로명'] = merged_seoul['동']+ ' ' + merged_seoul['ADDR']\n",
    "\n",
    "merged_seoul['구'] = '알수없음'\n",
    "for i in range(len(merged_seoul)):\n",
    "    merged_seoul['구'][i] = merged_seoul['서울시구'][i][6:]\n",
    "    \n",
    "merged_seoul.drop('IC_ADMIN', axis=1, inplace=True)\n",
    "\n",
    "# 필요한 칼럼만 가져오기\n",
    "merged_seoul = merged_seoul[['업종', 'ADDR', '구', '동', '동도로명', '서울시구', 'lon', 'lat']]"
   ]
  },
  {
   "cell_type": "code",
   "execution_count": 96,
   "metadata": {},
   "outputs": [
    {
     "data": {
      "text/html": [
       "<div>\n",
       "<style scoped>\n",
       "    .dataframe tbody tr th:only-of-type {\n",
       "        vertical-align: middle;\n",
       "    }\n",
       "\n",
       "    .dataframe tbody tr th {\n",
       "        vertical-align: top;\n",
       "    }\n",
       "\n",
       "    .dataframe thead th {\n",
       "        text-align: right;\n",
       "    }\n",
       "</style>\n",
       "<table border=\"1\" class=\"dataframe\">\n",
       "  <thead>\n",
       "    <tr style=\"text-align: right;\">\n",
       "      <th></th>\n",
       "      <th>업종</th>\n",
       "      <th>ADDR</th>\n",
       "      <th>구</th>\n",
       "      <th>동</th>\n",
       "      <th>동도로명</th>\n",
       "      <th>서울시구</th>\n",
       "      <th>lon</th>\n",
       "      <th>lat</th>\n",
       "    </tr>\n",
       "  </thead>\n",
       "  <tbody>\n",
       "    <tr>\n",
       "      <th>0</th>\n",
       "      <td>정보통신업</td>\n",
       "      <td>자하문로1길 41</td>\n",
       "      <td>종로구</td>\n",
       "      <td>필운동</td>\n",
       "      <td>필운동  자하문로1길 41</td>\n",
       "      <td>서울특별시 종로구</td>\n",
       "      <td>126.970063</td>\n",
       "      <td>37.576642</td>\n",
       "    </tr>\n",
       "    <tr>\n",
       "      <th>1</th>\n",
       "      <td>도매 및 소매업</td>\n",
       "      <td>수표로26길 12</td>\n",
       "      <td>종로구</td>\n",
       "      <td>낙원동</td>\n",
       "      <td>낙원동  수표로26길 12</td>\n",
       "      <td>서울특별시 종로구</td>\n",
       "      <td>126.989733</td>\n",
       "      <td>37.572100</td>\n",
       "    </tr>\n",
       "    <tr>\n",
       "      <th>2</th>\n",
       "      <td>정보통신업</td>\n",
       "      <td>통일로16길 5</td>\n",
       "      <td>종로구</td>\n",
       "      <td>무악동</td>\n",
       "      <td>무악동  통일로16길 5</td>\n",
       "      <td>서울특별시 종로구</td>\n",
       "      <td>126.957166</td>\n",
       "      <td>37.575758</td>\n",
       "    </tr>\n",
       "  </tbody>\n",
       "</table>\n",
       "</div>"
      ],
      "text/plain": [
       "         업종        ADDR    구    동            동도로명       서울시구         lon  \\\n",
       "0     정보통신업   자하문로1길 41  종로구  필운동  필운동  자하문로1길 41  서울특별시 종로구  126.970063   \n",
       "1  도매 및 소매업   수표로26길 12  종로구  낙원동  낙원동  수표로26길 12  서울특별시 종로구  126.989733   \n",
       "2     정보통신업    통일로16길 5  종로구  무악동   무악동  통일로16길 5  서울특별시 종로구  126.957166   \n",
       "\n",
       "         lat  \n",
       "0  37.576642  \n",
       "1  37.572100  \n",
       "2  37.575758  "
      ]
     },
     "execution_count": 96,
     "metadata": {},
     "output_type": "execute_result"
    }
   ],
   "source": [
    "seoul_bigvalue_geo_data = merged_seoul.copy()\n",
    "seoul_bigvalue_geo_data.head(3)"
   ]
  },
  {
   "cell_type": "code",
   "execution_count": null,
   "metadata": {},
   "outputs": [],
   "source": []
  },
  {
   "cell_type": "code",
   "execution_count": 97,
   "metadata": {},
   "outputs": [
    {
     "name": "stdout",
     "output_type": "stream",
     "text": [
      "38\n"
     ]
    },
    {
     "data": {
      "text/html": [
       "<div>\n",
       "<style scoped>\n",
       "    .dataframe tbody tr th:only-of-type {\n",
       "        vertical-align: middle;\n",
       "    }\n",
       "\n",
       "    .dataframe tbody tr th {\n",
       "        vertical-align: top;\n",
       "    }\n",
       "\n",
       "    .dataframe thead th {\n",
       "        text-align: right;\n",
       "    }\n",
       "</style>\n",
       "<table border=\"1\" class=\"dataframe\">\n",
       "  <thead>\n",
       "    <tr style=\"text-align: right;\">\n",
       "      <th></th>\n",
       "      <th>업종</th>\n",
       "      <th>ADDR</th>\n",
       "      <th>구</th>\n",
       "      <th>동</th>\n",
       "      <th>동도로명</th>\n",
       "      <th>서울시구</th>\n",
       "      <th>lon</th>\n",
       "      <th>lat</th>\n",
       "    </tr>\n",
       "  </thead>\n",
       "  <tbody>\n",
       "    <tr>\n",
       "      <th>5</th>\n",
       "      <td>정보통신업</td>\n",
       "      <td>퇴계로 253-6</td>\n",
       "      <td>중구</td>\n",
       "      <td>충무로5가</td>\n",
       "      <td>충무로5가  퇴계로 253-6</td>\n",
       "      <td>서울특별시 중구</td>\n",
       "      <td>0.0</td>\n",
       "      <td>0.0</td>\n",
       "    </tr>\n",
       "    <tr>\n",
       "      <th>7</th>\n",
       "      <td>전문, 과학 및 기술 서비스업</td>\n",
       "      <td>퇴계로50길 26-6</td>\n",
       "      <td>중구</td>\n",
       "      <td>묵정동</td>\n",
       "      <td>묵정동  퇴계로50길 26-6</td>\n",
       "      <td>서울특별시 중구</td>\n",
       "      <td>0.0</td>\n",
       "      <td>0.0</td>\n",
       "    </tr>\n",
       "    <tr>\n",
       "      <th>9</th>\n",
       "      <td>정보통신업</td>\n",
       "      <td>을지로40길 21-13</td>\n",
       "      <td>중구</td>\n",
       "      <td>을지로6가</td>\n",
       "      <td>을지로6가  을지로40길 21-13</td>\n",
       "      <td>서울특별시 중구</td>\n",
       "      <td>0.0</td>\n",
       "      <td>0.0</td>\n",
       "    </tr>\n",
       "    <tr>\n",
       "      <th>10</th>\n",
       "      <td>정보통신업</td>\n",
       "      <td>을지로14길 16-8</td>\n",
       "      <td>중구</td>\n",
       "      <td>을지로3가</td>\n",
       "      <td>을지로3가  을지로14길 16-8</td>\n",
       "      <td>서울특별시 중구</td>\n",
       "      <td>0.0</td>\n",
       "      <td>0.0</td>\n",
       "    </tr>\n",
       "    <tr>\n",
       "      <th>28</th>\n",
       "      <td>전문, 과학 및 기술 서비스업</td>\n",
       "      <td>도봉로136다길 26-1</td>\n",
       "      <td>도봉구</td>\n",
       "      <td>창동</td>\n",
       "      <td>창동  도봉로136다길 26-1</td>\n",
       "      <td>서울특별시 도봉구</td>\n",
       "      <td>0.0</td>\n",
       "      <td>0.0</td>\n",
       "    </tr>\n",
       "  </tbody>\n",
       "</table>\n",
       "</div>"
      ],
      "text/plain": [
       "                  업종            ADDR    구      동                 동도로명  \\\n",
       "5              정보통신업       퇴계로 253-6  중구   충무로5가     충무로5가  퇴계로 253-6   \n",
       "7   전문, 과학 및 기술 서비스업     퇴계로50길 26-6  중구     묵정동     묵정동  퇴계로50길 26-6   \n",
       "9              정보통신업    을지로40길 21-13  중구   을지로6가  을지로6가  을지로40길 21-13   \n",
       "10             정보통신업     을지로14길 16-8  중구   을지로3가   을지로3가  을지로14길 16-8   \n",
       "28  전문, 과학 및 기술 서비스업   도봉로136다길 26-1  도봉구     창동    창동  도봉로136다길 26-1   \n",
       "\n",
       "         서울시구  lon  lat  \n",
       "5   서울특별시 중구   0.0  0.0  \n",
       "7   서울특별시 중구   0.0  0.0  \n",
       "9   서울특별시 중구   0.0  0.0  \n",
       "10  서울특별시 중구   0.0  0.0  \n",
       "28  서울특별시 도봉구  0.0  0.0  "
      ]
     },
     "execution_count": 97,
     "metadata": {},
     "output_type": "execute_result"
    }
   ],
   "source": [
    "# 위경도가 맵핑 되지 못한 데이터 보기\n",
    "check = seoul_bigvalue_geo_data[seoul_bigvalue_geo_data['lon'] == 0.0]\n",
    "print(len(check)) # 총 38개 데이터\n",
    "check.head()"
   ]
  },
  {
   "cell_type": "code",
   "execution_count": 98,
   "metadata": {},
   "outputs": [
    {
     "data": {
      "text/plain": [
       "array([' 퇴계로 253-6', ' 퇴계로50길 26-6', ' 을지로40길 21-13', ' 을지로14길 16-8',\n",
       "       ' 도봉로136다길 26-1', ' 동일로186길 53-50', ' 이화여대2가길 16-5',\n",
       "       ' 남부순환로64길 27-5', ' 구로동 187-10번지 코오롱싸이언스밸리1차 B1층 B103호',\n",
       "       ' 구로동 212-13번지 벽산디지털밸리III 7층 710-712호', ' 디지털로31길 38-9',\n",
       "       ' 디지털로31길 38-21', ' 디지털로31길 38-21', ' 디지털로31길 38-21',\n",
       "       ' 디지털로31길 38-9', ' 디지털로31길 38-9', ' 구로동 235번지 한신아이티타워 6층 9호',\n",
       "       ' 구로동 222-31번지 13층 1304', ' 구로동 197-28번지 이앤씨벤처드림타워6차 3층 5호',\n",
       "       ' 디지털로31길 38-9', ' 디지털로31길 38-21',\n",
       "       ' 가산동 470-8번지 케이씨씨 웰츠밸리 5층 505호', ' 가산동 319번지 호서대벤처타워 12층 3호',\n",
       "       ' 가산디지털1로 33-33', ' 가산동 448번지 대륭테크노타운Ⅲ 6층 609호', ' 디지털로 119',\n",
       "       ' 가산동 371-50번지 에이스하이엔드타워3 4층 405', ' 가산디지털1로 205-28',\n",
       "       ' 가산동 371-37번지 STX V-TOWER 7층 708호', ' 디지털로10길 77',\n",
       "       ' 가산동 60-69번지 엘리시아 11층 1103', ' 경인로82길 3-4', ' 경인로82길 3-4',\n",
       "       ' 도림로125가길 6-1', ' 선유로 108-7', ' 신사동 506번지 4층', ' 신사동 506번지 6층',\n",
       "       ' 자하문로2길 13-3'], dtype=object)"
      ]
     },
     "execution_count": 98,
     "metadata": {},
     "output_type": "execute_result"
    }
   ],
   "source": [
    "check['ADDR'].values"
   ]
  },
  {
   "cell_type": "code",
   "execution_count": 99,
   "metadata": {},
   "outputs": [
    {
     "data": {
      "text/plain": [
       "array(['서울특별시 종로구 청운동 자하문로 94 0', '서울특별시 종로구 청운동 자하문로 96 0',\n",
       "       '서울특별시 종로구 청운동 자하문로 98 0', '서울특별시 종로구 청운동 자하문로 99 3',\n",
       "       '서울특별시 종로구 청운동 자하문로 99 4'], dtype=object)"
      ]
     },
     "execution_count": 99,
     "metadata": {},
     "output_type": "execute_result"
    }
   ],
   "source": [
    "geo.head()['주소'].values"
   ]
  },
  {
   "cell_type": "markdown",
   "metadata": {},
   "source": [
    "- 위경도가 있는 데이터를 보면 '자하문로 94 0' 같은 구조이다. 맵핑 되지 못한 주소 데이터는 대부분 '디지털로31길 38-9'처럼 '-'가 있어서 맵핑되지 못한 경우가 많으므로 해당 부분은 이를 지워 다시 맵핑하고 이외는 구글리을 통해 위도경도를 입력한다."
   ]
  },
  {
   "cell_type": "code",
   "execution_count": 100,
   "metadata": {},
   "outputs": [],
   "source": [
    "# 1. 수기로 고치기\n",
    "idx = 5\n",
    "seoul_bigvalue_geo_data.loc[idx, 'lat'] = '37.563389'\n",
    "seoul_bigvalue_geo_data.loc[idx, 'lon'] = '127.00032'\n",
    "\n",
    "idx = 7\n",
    "seoul_bigvalue_geo_data.loc[idx, 'lat'] = '37.561616'\n",
    "seoul_bigvalue_geo_data.loc[idx, 'lon'] = '127.00062'"
   ]
  },
  {
   "cell_type": "code",
   "execution_count": 101,
   "metadata": {},
   "outputs": [
    {
     "name": "stderr",
     "output_type": "stream",
     "text": [
      "/opt/conda/lib/python3.7/site-packages/ipykernel_launcher.py:2: SettingWithCopyWarning: \n",
      "A value is trying to be set on a copy of a slice from a DataFrame.\n",
      "Try using .loc[row_indexer,col_indexer] = value instead\n",
      "\n",
      "See the caveats in the documentation: https://pandas.pydata.org/pandas-docs/stable/user_guide/indexing.html#returning-a-view-versus-a-copy\n",
      "  \n",
      "  0%|          | 0/38 [00:00<?, ?it/s]/home/jovyan/.local/lib/python3.7/site-packages/pandas/core/indexing.py:966: SettingWithCopyWarning: \n",
      "A value is trying to be set on a copy of a slice from a DataFrame.\n",
      "Try using .loc[row_indexer,col_indexer] = value instead\n",
      "\n",
      "See the caveats in the documentation: https://pandas.pydata.org/pandas-docs/stable/user_guide/indexing.html#returning-a-view-versus-a-copy\n",
      "  self.obj[item] = s\n",
      "100%|██████████| 38/38 [00:08<00:00,  4.25it/s]\n"
     ]
    }
   ],
   "source": [
    "# 2. 위경도가 0인부분 다시 맵핑하기\n",
    "check['ADDR'] = check['ADDR'].str.replace('-', ' ')\n",
    "\n",
    "check.reset_index(inplace=True, drop=False)\n",
    "\n",
    "for i in tqdm(range(len(check))):\n",
    "    try:\n",
    "        idx = geo[geo['주소'].str.contains(check['ADDR'][i])].index\n",
    "        lon = geo.iloc[idx]['lon'].values[0]\n",
    "        lat = geo.iloc[idx]['lat'].values[0]\n",
    "    except:\n",
    "        lon = 0.0\n",
    "        lat = 0.0\n",
    "    \n",
    "    check.loc[i, 'lon'] = lon\n",
    "    check.loc[i, 'lat'] = lat\n",
    "    \n",
    "    \n",
    "# 위경도가 0이었지만 새로 맵핑한 데이터와 기존 데이터 합치기\n",
    "for i in range(len(seoul_bigvalue_geo_data)):\n",
    "    if i in (check['index'].values):\n",
    "        seoul_bigvalue_geo_data.loc[i, 'lon'] = check[check['index'] == i]['lon'].values[0]\n",
    "        seoul_bigvalue_geo_data.loc[i, 'lat'] = check[check['index'] == i]['lat'].values[0]"
   ]
  },
  {
   "cell_type": "code",
   "execution_count": 102,
   "metadata": {},
   "outputs": [],
   "source": [
    "# 3. 수기로 고치기\n",
    "idx = 51\n",
    "seoul_bigvalue_geo_data.loc[idx, '동'] = '구로동'\n",
    "seoul_bigvalue_geo_data.loc[idx, 'lat'] = '37.485118'\n",
    "seoul_bigvalue_geo_data.loc[idx, 'lon'] = '126.89882'\n",
    "\n",
    "idx = 53\n",
    "seoul_bigvalue_geo_data.loc[idx, '동'] = '구로동'\n",
    "seoul_bigvalue_geo_data.loc[idx, 'lat'] = '37.483137'\n",
    "seoul_bigvalue_geo_data.loc[idx, 'lon'] = '126.89372'\n",
    "\n",
    "idx = 169\n",
    "seoul_bigvalue_geo_data.loc[idx, '동'] = '구로동'\n",
    "seoul_bigvalue_geo_data.loc[idx, 'lat'] = '37.480021'\n",
    "seoul_bigvalue_geo_data.loc[idx, 'lon'] = '126.88617'\n",
    "\n",
    "idx = 182\n",
    "seoul_bigvalue_geo_data.loc[idx, '동'] = '구로동'\n",
    "seoul_bigvalue_geo_data.loc[idx, 'lat'] = '37.482975'\n",
    "seoul_bigvalue_geo_data.loc[idx, 'lon'] = '126.897806'\n",
    "\n",
    "idx = 185\n",
    "seoul_bigvalue_geo_data.loc[idx, '동'] = '구로동'\n",
    "seoul_bigvalue_geo_data.loc[idx, 'lat'] = '37.486586'\n",
    "seoul_bigvalue_geo_data.loc[idx, 'lon'] = '126.89365'\n",
    "\n",
    "idx = 293\n",
    "seoul_bigvalue_geo_data.loc[idx, '동'] = '가산동'\n",
    "seoul_bigvalue_geo_data.loc[idx, 'lat'] = '37.472241'\n",
    "seoul_bigvalue_geo_data.loc[idx, 'lon'] = '126.88593'\n",
    "\n",
    "idx = 363\n",
    "seoul_bigvalue_geo_data.loc[idx, '동'] = '가산동'\n",
    "seoul_bigvalue_geo_data.loc[idx, 'lat'] = '37.478227'\n",
    "seoul_bigvalue_geo_data.loc[idx, 'lon'] = '126.87919'\n",
    "\n",
    "idx = 415\n",
    "seoul_bigvalue_geo_data.loc[idx, '동'] = '가산동'\n",
    "seoul_bigvalue_geo_data.loc[idx, 'lat'] = '37.561616'\n",
    "seoul_bigvalue_geo_data.loc[idx, 'lon'] = '127.00062'\n",
    "\n",
    "idx = 491\n",
    "seoul_bigvalue_geo_data.loc[idx, '동'] = '가산동'\n",
    "seoul_bigvalue_geo_data.loc[idx, 'lat'] = '37.476642'\n",
    "seoul_bigvalue_geo_data.loc[idx, 'lon'] = '126.88414'\n",
    "\n",
    "idx = 548\n",
    "seoul_bigvalue_geo_data.loc[idx, '동'] = '가산동'\n",
    "seoul_bigvalue_geo_data.loc[idx, 'lat'] = '37.477129'\n",
    "seoul_bigvalue_geo_data.loc[idx, 'lon'] = '126.88375'\n",
    "\n",
    "idx = 581\n",
    "seoul_bigvalue_geo_data.loc[idx, '동'] = '가산동'\n",
    "seoul_bigvalue_geo_data.loc[idx, 'lat'] = '37.475604'\n",
    "seoul_bigvalue_geo_data.loc[idx, 'lon'] = '126.89080'\n",
    "\n",
    "idx = 672\n",
    "seoul_bigvalue_geo_data.loc[idx, '동'] = '가산동'\n",
    "seoul_bigvalue_geo_data.loc[idx, 'lat'] = '37.477878'\n",
    "seoul_bigvalue_geo_data.loc[idx, 'lon'] = '126.88600'\n",
    "\n",
    "idx = 712\n",
    "seoul_bigvalue_geo_data.loc[idx, '동'] = '신사동'\n",
    "seoul_bigvalue_geo_data.loc[idx, 'lat'] = '37.526323'\n",
    "seoul_bigvalue_geo_data.loc[idx, 'lon'] = '127.03715'\n",
    "\n",
    "idx = 713\n",
    "seoul_bigvalue_geo_data.loc[idx, '동'] = '신사동'\n",
    "seoul_bigvalue_geo_data.loc[idx, 'lat'] = '37.526323'\n",
    "seoul_bigvalue_geo_data.loc[idx, 'lon'] = '127.03715'\n",
    "\n",
    "idx = seoul_bigvalue_geo_data[seoul_bigvalue_geo_data['동도로명'].str.contains('케이씨씨 웰츠밸리 5층 505호')].index\n",
    "seoul_bigvalue_geo_data.loc[idx, '동'] = '가산동'\n",
    "seoul_bigvalue_geo_data.loc[idx, 'lon'] = '126.879732'\n",
    "seoul_bigvalue_geo_data.loc[idx, 'lat'] = '37.483727'"
   ]
  },
  {
   "cell_type": "code",
   "execution_count": 103,
   "metadata": {},
   "outputs": [
    {
     "data": {
      "text/html": [
       "<div>\n",
       "<style scoped>\n",
       "    .dataframe tbody tr th:only-of-type {\n",
       "        vertical-align: middle;\n",
       "    }\n",
       "\n",
       "    .dataframe tbody tr th {\n",
       "        vertical-align: top;\n",
       "    }\n",
       "\n",
       "    .dataframe thead th {\n",
       "        text-align: right;\n",
       "    }\n",
       "</style>\n",
       "<table border=\"1\" class=\"dataframe\">\n",
       "  <thead>\n",
       "    <tr style=\"text-align: right;\">\n",
       "      <th></th>\n",
       "      <th>업종</th>\n",
       "      <th>ADDR</th>\n",
       "      <th>구</th>\n",
       "      <th>동</th>\n",
       "      <th>동도로명</th>\n",
       "      <th>서울시구</th>\n",
       "      <th>lon</th>\n",
       "      <th>lat</th>\n",
       "    </tr>\n",
       "  </thead>\n",
       "  <tbody>\n",
       "  </tbody>\n",
       "</table>\n",
       "</div>"
      ],
      "text/plain": [
       "Empty DataFrame\n",
       "Columns: [업종, ADDR, 구, 동, 동도로명, 서울시구, lon, lat]\n",
       "Index: []"
      ]
     },
     "execution_count": 103,
     "metadata": {},
     "output_type": "execute_result"
    }
   ],
   "source": [
    "# 확인\n",
    "seoul_bigvalue_geo_data[seoul_bigvalue_geo_data['lon'] == 0.0]"
   ]
  },
  {
   "cell_type": "code",
   "execution_count": 104,
   "metadata": {},
   "outputs": [],
   "source": [
    "# 잘못된 동 이름 고치기\n",
    "\n",
    "idx = seoul_bigvalue_geo_data[seoul_bigvalue_geo_data['동'].str.contains('목2동')]['동'].index\n",
    "seoul_bigvalue_geo_data.loc[idx, '동'] = '목2동'\n",
    "\n",
    "idx = seoul_bigvalue_geo_data[seoul_bigvalue_geo_data['동'].str.contains('301-2~301-7호')].index\n",
    "seoul_bigvalue_geo_data.loc[idx, '동'] = '가산동'\n",
    "\n",
    "idx = seoul_bigvalue_geo_data[seoul_bigvalue_geo_data['동'].str.contains('일부')].index\n",
    "seoul_bigvalue_geo_data.loc[idx, '동'] = '구로동'\n",
    "\n",
    "idx = seoul_bigvalue_geo_data[seoul_bigvalue_geo_data['동'].str.contains('임차')].index\n",
    "seoul_bigvalue_geo_data.loc[idx, '동'] = '구로동'\n",
    "\n",
    "idx = seoul_bigvalue_geo_data[seoul_bigvalue_geo_data['동'].str.contains('자가')].index\n",
    "seoul_bigvalue_geo_data.loc[idx, '동'] = '가산동'\n",
    "\n",
    "idx = seoul_bigvalue_geo_data[seoul_bigvalue_geo_data['동'].str.contains('신정3동1254')].index\n",
    "seoul_bigvalue_geo_data.loc[idx, '동'] = '신정동'"
   ]
  },
  {
   "cell_type": "code",
   "execution_count": 106,
   "metadata": {},
   "outputs": [
    {
     "data": {
      "text/html": [
       "<div>\n",
       "<style scoped>\n",
       "    .dataframe tbody tr th:only-of-type {\n",
       "        vertical-align: middle;\n",
       "    }\n",
       "\n",
       "    .dataframe tbody tr th {\n",
       "        vertical-align: top;\n",
       "    }\n",
       "\n",
       "    .dataframe thead th {\n",
       "        text-align: right;\n",
       "    }\n",
       "</style>\n",
       "<table border=\"1\" class=\"dataframe\">\n",
       "  <thead>\n",
       "    <tr style=\"text-align: right;\">\n",
       "      <th></th>\n",
       "      <th>업종</th>\n",
       "      <th>ADDR</th>\n",
       "      <th>구</th>\n",
       "      <th>동</th>\n",
       "      <th>동도로명</th>\n",
       "      <th>서울시구</th>\n",
       "      <th>lon</th>\n",
       "      <th>lat</th>\n",
       "    </tr>\n",
       "  </thead>\n",
       "  <tbody>\n",
       "    <tr>\n",
       "      <th>0</th>\n",
       "      <td>정보통신업</td>\n",
       "      <td>자하문로1길 41</td>\n",
       "      <td>종로구</td>\n",
       "      <td>필운동</td>\n",
       "      <td>필운동  자하문로1길 41</td>\n",
       "      <td>서울특별시 종로구</td>\n",
       "      <td>126.97</td>\n",
       "      <td>37.5766</td>\n",
       "    </tr>\n",
       "    <tr>\n",
       "      <th>1</th>\n",
       "      <td>도매 및 소매업</td>\n",
       "      <td>수표로26길 12</td>\n",
       "      <td>종로구</td>\n",
       "      <td>낙원동</td>\n",
       "      <td>낙원동  수표로26길 12</td>\n",
       "      <td>서울특별시 종로구</td>\n",
       "      <td>126.99</td>\n",
       "      <td>37.5721</td>\n",
       "    </tr>\n",
       "    <tr>\n",
       "      <th>2</th>\n",
       "      <td>정보통신업</td>\n",
       "      <td>통일로16길 5</td>\n",
       "      <td>종로구</td>\n",
       "      <td>무악동</td>\n",
       "      <td>무악동  통일로16길 5</td>\n",
       "      <td>서울특별시 종로구</td>\n",
       "      <td>126.957</td>\n",
       "      <td>37.5758</td>\n",
       "    </tr>\n",
       "    <tr>\n",
       "      <th>3</th>\n",
       "      <td>정보통신업</td>\n",
       "      <td>세종대로 124</td>\n",
       "      <td>중구</td>\n",
       "      <td>태평로1가</td>\n",
       "      <td>태평로1가  세종대로 124</td>\n",
       "      <td>서울특별시 중구</td>\n",
       "      <td>126.978</td>\n",
       "      <td>37.5673</td>\n",
       "    </tr>\n",
       "    <tr>\n",
       "      <th>4</th>\n",
       "      <td>정보통신업</td>\n",
       "      <td>삼일대로6길 16</td>\n",
       "      <td>중구</td>\n",
       "      <td>충무로2가</td>\n",
       "      <td>충무로2가  삼일대로6길 16</td>\n",
       "      <td>서울특별시 중구</td>\n",
       "      <td>126.99</td>\n",
       "      <td>37.5624</td>\n",
       "    </tr>\n",
       "  </tbody>\n",
       "</table>\n",
       "</div>"
      ],
      "text/plain": [
       "         업종        ADDR    구      동              동도로명       서울시구      lon  \\\n",
       "0     정보통신업   자하문로1길 41  종로구    필운동    필운동  자하문로1길 41  서울특별시 종로구   126.97   \n",
       "1  도매 및 소매업   수표로26길 12  종로구    낙원동    낙원동  수표로26길 12  서울특별시 종로구   126.99   \n",
       "2     정보통신업    통일로16길 5  종로구    무악동     무악동  통일로16길 5  서울특별시 종로구  126.957   \n",
       "3     정보통신업    세종대로 124  중구   태평로1가   태평로1가  세종대로 124  서울특별시 중구   126.978   \n",
       "4     정보통신업   삼일대로6길 16  중구   충무로2가  충무로2가  삼일대로6길 16  서울특별시 중구    126.99   \n",
       "\n",
       "       lat  \n",
       "0  37.5766  \n",
       "1  37.5721  \n",
       "2  37.5758  \n",
       "3  37.5673  \n",
       "4  37.5624  "
      ]
     },
     "execution_count": 106,
     "metadata": {},
     "output_type": "execute_result"
    }
   ],
   "source": [
    "seoul_bigvalue_geo_data.head()"
   ]
  },
  {
   "cell_type": "code",
   "execution_count": 105,
   "metadata": {},
   "outputs": [],
   "source": [
    "#'서울_빅벨류_IND_REGINFO_202105_주소 및 경위도.csv'로 저장\n",
    "\n",
    "#seoul_bigvalue_geo_data.to_csv('../서울_빅벨류_IND_REGINFO_202105_주소 및 경위도.csv', encoding='utf-8-sig')"
   ]
  },
  {
   "cell_type": "code",
   "execution_count": 114,
   "metadata": {},
   "outputs": [
    {
     "data": {
      "text/plain": [
       "(768, 8)"
      ]
     },
     "execution_count": 114,
     "metadata": {},
     "output_type": "execute_result"
    }
   ],
   "source": [
    "seoul_bigvalue_geo_data.shape"
   ]
  },
  {
   "cell_type": "code",
   "execution_count": null,
   "metadata": {},
   "outputs": [],
   "source": []
  },
  {
   "cell_type": "markdown",
   "metadata": {},
   "source": [
    "# 5. 더존비즈온 기업 데이터와 합치기"
   ]
  },
  {
   "cell_type": "code",
   "execution_count": 110,
   "metadata": {},
   "outputs": [
    {
     "data": {
      "text/html": [
       "<div>\n",
       "<style scoped>\n",
       "    .dataframe tbody tr th:only-of-type {\n",
       "        vertical-align: middle;\n",
       "    }\n",
       "\n",
       "    .dataframe tbody tr th {\n",
       "        vertical-align: top;\n",
       "    }\n",
       "\n",
       "    .dataframe thead th {\n",
       "        text-align: right;\n",
       "    }\n",
       "</style>\n",
       "<table border=\"1\" class=\"dataframe\">\n",
       "  <thead>\n",
       "    <tr style=\"text-align: right;\">\n",
       "      <th></th>\n",
       "      <th>표준 산업분류코드 대분류</th>\n",
       "      <th>ADDR</th>\n",
       "      <th>구</th>\n",
       "      <th>동</th>\n",
       "      <th>동도로명</th>\n",
       "      <th>서울시구</th>\n",
       "      <th>lon_mean_detail</th>\n",
       "      <th>lat_mean_detail</th>\n",
       "    </tr>\n",
       "  </thead>\n",
       "  <tbody>\n",
       "    <tr>\n",
       "      <th>0</th>\n",
       "      <td>도매 및 소매업</td>\n",
       "      <td>퇴계로75길</td>\n",
       "      <td>중구</td>\n",
       "      <td>흥인동</td>\n",
       "      <td>흥인동퇴계로75길</td>\n",
       "      <td>서울특별시 중구</td>\n",
       "      <td>127.015582</td>\n",
       "      <td>37.566224</td>\n",
       "    </tr>\n",
       "    <tr>\n",
       "      <th>1</th>\n",
       "      <td>전문, 과학 및 기술 서비스업</td>\n",
       "      <td>퇴계로75길</td>\n",
       "      <td>중구</td>\n",
       "      <td>흥인동</td>\n",
       "      <td>흥인동퇴계로75길</td>\n",
       "      <td>서울특별시 중구</td>\n",
       "      <td>127.015582</td>\n",
       "      <td>37.566224</td>\n",
       "    </tr>\n",
       "    <tr>\n",
       "      <th>2</th>\n",
       "      <td>부동산업</td>\n",
       "      <td>백제고분로48길</td>\n",
       "      <td>송파구</td>\n",
       "      <td>방이동</td>\n",
       "      <td>방이동백제고분로48길</td>\n",
       "      <td>서울특별시 송파구</td>\n",
       "      <td>127.115758</td>\n",
       "      <td>37.510815</td>\n",
       "    </tr>\n",
       "    <tr>\n",
       "      <th>3</th>\n",
       "      <td>전문, 과학 및 기술 서비스업</td>\n",
       "      <td>백제고분로48길</td>\n",
       "      <td>송파구</td>\n",
       "      <td>방이동</td>\n",
       "      <td>방이동백제고분로48길</td>\n",
       "      <td>서울특별시 송파구</td>\n",
       "      <td>127.115758</td>\n",
       "      <td>37.510815</td>\n",
       "    </tr>\n",
       "    <tr>\n",
       "      <th>4</th>\n",
       "      <td>도매 및 소매업</td>\n",
       "      <td>백제고분로48길</td>\n",
       "      <td>송파구</td>\n",
       "      <td>방이동</td>\n",
       "      <td>방이동백제고분로48길</td>\n",
       "      <td>서울특별시 송파구</td>\n",
       "      <td>127.115758</td>\n",
       "      <td>37.510815</td>\n",
       "    </tr>\n",
       "  </tbody>\n",
       "</table>\n",
       "</div>"
      ],
      "text/plain": [
       "      표준 산업분류코드 대분류      ADDR    구    동         동도로명       서울시구  \\\n",
       "0          도매 및 소매업    퇴계로75길   중구  흥인동    흥인동퇴계로75길  서울특별시 중구    \n",
       "1  전문, 과학 및 기술 서비스업    퇴계로75길   중구  흥인동    흥인동퇴계로75길  서울특별시 중구    \n",
       "2              부동산업  백제고분로48길  송파구  방이동  방이동백제고분로48길  서울특별시 송파구   \n",
       "3  전문, 과학 및 기술 서비스업  백제고분로48길  송파구  방이동  방이동백제고분로48길  서울특별시 송파구   \n",
       "4          도매 및 소매업  백제고분로48길  송파구  방이동  방이동백제고분로48길  서울특별시 송파구   \n",
       "\n",
       "   lon_mean_detail  lat_mean_detail  \n",
       "0       127.015582        37.566224  \n",
       "1       127.015582        37.566224  \n",
       "2       127.115758        37.510815  \n",
       "3       127.115758        37.510815  \n",
       "4       127.115758        37.510815  "
      ]
     },
     "execution_count": 110,
     "metadata": {},
     "output_type": "execute_result"
    }
   ],
   "source": [
    "# 데이터 불러오기\n",
    "thezone  = pd.read_csv('../서울_더존비즈온기업_주소 및 경위도(detail).csv')\n",
    "thezone.drop('Unnamed: 0', axis=1, inplace=True)\n",
    "\n",
    "# 필요한 칼럼만 추출\n",
    "thezone = thezone[['표준 산업분류코드 대분류', 'ADDR', '구', '동', '동도로명', '서울시구', 'lon_mean_detail', 'lat_mean_detail']]\n",
    "thezone.head()"
   ]
  },
  {
   "cell_type": "code",
   "execution_count": 111,
   "metadata": {},
   "outputs": [
    {
     "data": {
      "text/plain": [
       "(11966, 8)"
      ]
     },
     "execution_count": 111,
     "metadata": {},
     "output_type": "execute_result"
    }
   ],
   "source": [
    "thezone.columns = seoul_bigvalue_geo_data.columns\n",
    "thezone.shape"
   ]
  },
  {
   "cell_type": "code",
   "execution_count": 112,
   "metadata": {},
   "outputs": [
    {
     "data": {
      "text/html": [
       "<div>\n",
       "<style scoped>\n",
       "    .dataframe tbody tr th:only-of-type {\n",
       "        vertical-align: middle;\n",
       "    }\n",
       "\n",
       "    .dataframe tbody tr th {\n",
       "        vertical-align: top;\n",
       "    }\n",
       "\n",
       "    .dataframe thead th {\n",
       "        text-align: right;\n",
       "    }\n",
       "</style>\n",
       "<table border=\"1\" class=\"dataframe\">\n",
       "  <thead>\n",
       "    <tr style=\"text-align: right;\">\n",
       "      <th></th>\n",
       "      <th>업종</th>\n",
       "      <th>ADDR</th>\n",
       "      <th>구</th>\n",
       "      <th>동</th>\n",
       "      <th>동도로명</th>\n",
       "      <th>서울시구</th>\n",
       "      <th>lon</th>\n",
       "      <th>lat</th>\n",
       "    </tr>\n",
       "  </thead>\n",
       "  <tbody>\n",
       "    <tr>\n",
       "      <th>0</th>\n",
       "      <td>도매 및 소매업</td>\n",
       "      <td>퇴계로75길</td>\n",
       "      <td>중구</td>\n",
       "      <td>흥인동</td>\n",
       "      <td>흥인동퇴계로75길</td>\n",
       "      <td>서울특별시 중구</td>\n",
       "      <td>127.016</td>\n",
       "      <td>37.5662</td>\n",
       "    </tr>\n",
       "    <tr>\n",
       "      <th>1</th>\n",
       "      <td>전문, 과학 및 기술 서비스업</td>\n",
       "      <td>퇴계로75길</td>\n",
       "      <td>중구</td>\n",
       "      <td>흥인동</td>\n",
       "      <td>흥인동퇴계로75길</td>\n",
       "      <td>서울특별시 중구</td>\n",
       "      <td>127.016</td>\n",
       "      <td>37.5662</td>\n",
       "    </tr>\n",
       "    <tr>\n",
       "      <th>2</th>\n",
       "      <td>부동산업</td>\n",
       "      <td>백제고분로48길</td>\n",
       "      <td>송파구</td>\n",
       "      <td>방이동</td>\n",
       "      <td>방이동백제고분로48길</td>\n",
       "      <td>서울특별시 송파구</td>\n",
       "      <td>127.116</td>\n",
       "      <td>37.5108</td>\n",
       "    </tr>\n",
       "    <tr>\n",
       "      <th>3</th>\n",
       "      <td>전문, 과학 및 기술 서비스업</td>\n",
       "      <td>백제고분로48길</td>\n",
       "      <td>송파구</td>\n",
       "      <td>방이동</td>\n",
       "      <td>방이동백제고분로48길</td>\n",
       "      <td>서울특별시 송파구</td>\n",
       "      <td>127.116</td>\n",
       "      <td>37.5108</td>\n",
       "    </tr>\n",
       "    <tr>\n",
       "      <th>4</th>\n",
       "      <td>도매 및 소매업</td>\n",
       "      <td>백제고분로48길</td>\n",
       "      <td>송파구</td>\n",
       "      <td>방이동</td>\n",
       "      <td>방이동백제고분로48길</td>\n",
       "      <td>서울특별시 송파구</td>\n",
       "      <td>127.116</td>\n",
       "      <td>37.5108</td>\n",
       "    </tr>\n",
       "  </tbody>\n",
       "</table>\n",
       "</div>"
      ],
      "text/plain": [
       "                 업종      ADDR    구    동         동도로명       서울시구      lon  \\\n",
       "0          도매 및 소매업    퇴계로75길   중구  흥인동    흥인동퇴계로75길  서울특별시 중구   127.016   \n",
       "1  전문, 과학 및 기술 서비스업    퇴계로75길   중구  흥인동    흥인동퇴계로75길  서울특별시 중구   127.016   \n",
       "2              부동산업  백제고분로48길  송파구  방이동  방이동백제고분로48길  서울특별시 송파구  127.116   \n",
       "3  전문, 과학 및 기술 서비스업  백제고분로48길  송파구  방이동  방이동백제고분로48길  서울특별시 송파구  127.116   \n",
       "4          도매 및 소매업  백제고분로48길  송파구  방이동  방이동백제고분로48길  서울특별시 송파구  127.116   \n",
       "\n",
       "       lat  \n",
       "0  37.5662  \n",
       "1  37.5662  \n",
       "2  37.5108  \n",
       "3  37.5108  \n",
       "4  37.5108  "
      ]
     },
     "execution_count": 112,
     "metadata": {},
     "output_type": "execute_result"
    }
   ],
   "source": [
    "fin_data = pd.concat([thezone, seoul_bigvalue_geo_data], axis=0)\n",
    "fin_data.head()"
   ]
  },
  {
   "cell_type": "code",
   "execution_count": 113,
   "metadata": {},
   "outputs": [],
   "source": [
    "# 서울_더존_빅벨류_업종별_동별_경위도.csv로 저장\n",
    "\n",
    "# fin_data.to_csv('서울_더존_빅벨류_업종별_동별_경위도.csv', encoding='utf-8-sig')"
   ]
  },
  {
   "cell_type": "code",
   "execution_count": 116,
   "metadata": {},
   "outputs": [
    {
     "data": {
      "text/plain": [
       "(12734, 8)"
      ]
     },
     "execution_count": 116,
     "metadata": {},
     "output_type": "execute_result"
    }
   ],
   "source": [
    "fin_data.shape"
   ]
  },
  {
   "cell_type": "code",
   "execution_count": null,
   "metadata": {},
   "outputs": [],
   "source": []
  }
 ],
 "metadata": {
  "kernelspec": {
   "display_name": "Python 3",
   "language": "python",
   "name": "python3"
  },
  "language_info": {
   "codemirror_mode": {
    "name": "ipython",
    "version": 3
   },
   "file_extension": ".py",
   "mimetype": "text/x-python",
   "name": "python",
   "nbconvert_exporter": "python",
   "pygments_lexer": "ipython3",
   "version": "3.9.6"
  }
 },
 "nbformat": 4,
 "nbformat_minor": 2
}
