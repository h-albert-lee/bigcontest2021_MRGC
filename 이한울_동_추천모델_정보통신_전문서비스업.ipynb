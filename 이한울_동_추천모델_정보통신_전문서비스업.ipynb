{
 "cells": [
  {
   "cell_type": "code",
   "execution_count": 61,
   "metadata": {},
   "outputs": [],
   "source": [
    "import pandas as pd\n",
    "import numpy as np\n",
    "import matplotlib.pyplot as plt\n",
    "from sklearn.preprocessing import StandardScaler\n",
    "from sklearn.preprocessing import MinMaxScaler\n",
    "from sklearn.decomposition import PCA\n",
    "from sklearn.cluster import DBSCAN\n",
    "from sklearn.metrics import silhouette_score, silhouette_samples\n",
    "from sklearn.cluster import KMeans\n",
    "from sklearn.linear_model import LinearRegression"
   ]
  },
  {
   "cell_type": "code",
   "execution_count": 2,
   "metadata": {},
   "outputs": [],
   "source": [
    "dataset = pd.read_csv('/home/jovyan/WIDE_HOME/김은선/동별_입지추천_2번.csv') #동 이름 + 동 업종별 수 + 파생 피쳐 모음"
   ]
  },
  {
   "cell_type": "code",
   "execution_count": 3,
   "metadata": {},
   "outputs": [],
   "source": [
    "#정보통신업\n",
    "icts = dataset.drop(['교육 서비스업', '금융 및 보험업', '도매 및 소매업', '부동산업',\n",
    "       '사업시설 관리, 사업지원 및 임대 서비스업', '전문, 과학 및 기술 서비스업'], axis = 1)\n",
    "icts = icts[icts['정보통신업']>5]"
   ]
  },
  {
   "cell_type": "code",
   "execution_count": 4,
   "metadata": {},
   "outputs": [],
   "source": [
    "icts.index = icts['동']\n",
    "icts.drop(['동'], axis = 1, inplace = True)"
   ]
  },
  {
   "cell_type": "code",
   "execution_count": 5,
   "metadata": {
    "scrolled": true
   },
   "outputs": [],
   "source": [
    "icts_scaled = pd.DataFrame(StandardScaler().fit_transform(icts), index = icts.index, columns = icts.columns)"
   ]
  },
  {
   "cell_type": "code",
   "execution_count": 6,
   "metadata": {},
   "outputs": [
    {
     "data": {
      "image/png": "[encoded data removed]",
      "text/plain": [
       "<Figure size 432x288 with 1 Axes>"
      ]
     },
     "metadata": {
      "needs_background": "light"
     },
     "output_type": "display_data"
    }
   ],
   "source": [
    "pca = PCA()\n",
    "\n",
    "# # Determine transformed features # \n",
    "X_train_pca = pca.fit_transform(icts_scaled[icts_scaled.columns[:]]) \n",
    "# # Determine explained variance using explained_variance_ration_ attribute\n",
    "exp_var_pca = pca.explained_variance_ratio_ \n",
    "# # Cumulative sum of eigenvalues; This will be used to create step plot # for visualizing the variance explained by each principal component. \n",
    "cum_sum_eigenvalues = np.cumsum(exp_var_pca)\n",
    "# # Create the visualization plot # \n",
    "plt.bar(range(0,len(exp_var_pca)), exp_var_pca, alpha=0.5, align='center', label='Individual explained variance')\n",
    "plt.step(range(0,len(cum_sum_eigenvalues)), cum_sum_eigenvalues, where='mid',label='Cumulative explained variance')\n",
    "plt.ylabel('Explained variance ratio')\n",
    "plt.xlabel('Principal component index')\n",
    "plt.legend(loc='best')\n",
    "plt.tight_layout()\n",
    "plt.show()"
   ]
  },
  {
   "cell_type": "code",
   "execution_count": 7,
   "metadata": {},
   "outputs": [
    {
     "data": {
      "text/html": [
       "<div>\n",
       "<style scoped>\n",
       "    .dataframe tbody tr th:only-of-type {\n",
       "        vertical-align: middle;\n",
       "    }\n",
       "\n",
       "    .dataframe tbody tr th {\n",
       "        vertical-align: top;\n",
       "    }\n",
       "\n",
       "    .dataframe thead th {\n",
       "        text-align: right;\n",
       "    }\n",
       "</style>\n",
       "<table border=\"1\" class=\"dataframe\">\n",
       "  <thead>\n",
       "    <tr style=\"text-align: right;\">\n",
       "      <th></th>\n",
       "      <th>0</th>\n",
       "      <th>1</th>\n",
       "      <th>2</th>\n",
       "      <th>3</th>\n",
       "      <th>4</th>\n",
       "      <th>5</th>\n",
       "      <th>6</th>\n",
       "      <th>7</th>\n",
       "      <th>8</th>\n",
       "      <th>9</th>\n",
       "      <th>10</th>\n",
       "    </tr>\n",
       "  </thead>\n",
       "  <tbody>\n",
       "    <tr>\n",
       "      <th>exp_var_pca</th>\n",
       "      <td>0.362505</td>\n",
       "      <td>0.221208</td>\n",
       "      <td>0.117751</td>\n",
       "      <td>0.101754</td>\n",
       "      <td>0.077326</td>\n",
       "      <td>0.051105</td>\n",
       "      <td>0.029862</td>\n",
       "      <td>0.019213</td>\n",
       "      <td>0.010871</td>\n",
       "      <td>0.007777</td>\n",
       "      <td>0.000628</td>\n",
       "    </tr>\n",
       "    <tr>\n",
       "      <th>cum_sum_eigenvalues</th>\n",
       "      <td>0.362505</td>\n",
       "      <td>0.583713</td>\n",
       "      <td>0.701464</td>\n",
       "      <td>0.803218</td>\n",
       "      <td>0.880544</td>\n",
       "      <td>0.931649</td>\n",
       "      <td>0.961511</td>\n",
       "      <td>0.980724</td>\n",
       "      <td>0.991595</td>\n",
       "      <td>0.999372</td>\n",
       "      <td>1.000000</td>\n",
       "    </tr>\n",
       "  </tbody>\n",
       "</table>\n",
       "</div>"
      ],
      "text/plain": [
       "                           0         1         2         3         4   \\\n",
       "exp_var_pca          0.362505  0.221208  0.117751  0.101754  0.077326   \n",
       "cum_sum_eigenvalues  0.362505  0.583713  0.701464  0.803218  0.880544   \n",
       "\n",
       "                           5         6         7         8         9   \\\n",
       "exp_var_pca          0.051105  0.029862  0.019213  0.010871  0.007777   \n",
       "cum_sum_eigenvalues  0.931649  0.961511  0.980724  0.991595  0.999372   \n",
       "\n",
       "                           10  \n",
       "exp_var_pca          0.000628  \n",
       "cum_sum_eigenvalues  1.000000  "
      ]
     },
     "execution_count": 7,
     "metadata": {},
     "output_type": "execute_result"
    }
   ],
   "source": [
    "exp_var2 = pd.DataFrame(exp_var_pca)\n",
    "cum_sum_eigenvalues2 = pd.DataFrame(cum_sum_eigenvalues)\n",
    "\n",
    "exp_var2.columns = ['exp_var_pca']\n",
    "cum_sum_eigenvalues2.columns = ['cum_sum_eigenvalues']\n",
    "\n",
    "explainable = pd.concat([exp_var2, cum_sum_eigenvalues2], axis=1).T\n",
    "explainable.columns = [i for i in range(0, len(icts_scaled.columns))]\n",
    "explainable"
   ]
  },
  {
   "cell_type": "code",
   "execution_count": 8,
   "metadata": {},
   "outputs": [],
   "source": [
    "Ex = explainable.T\n",
    "appropriate_n = Ex[Ex['cum_sum_eigenvalues']>0.90].index.min() #전체 변수를 90%이상 설명할 수 있는 "
   ]
  },
  {
   "cell_type": "code",
   "execution_count": 9,
   "metadata": {},
   "outputs": [],
   "source": [
    "pca = PCA(n_components = appropriate_n)\n",
    "pcaed = pca.fit_transform(icts_scaled)"
   ]
  },
  {
   "cell_type": "code",
   "execution_count": 10,
   "metadata": {},
   "outputs": [],
   "source": [
    "column_name = ['pca1','pca2','pca3','pca4', 'pca5']\n",
    "pcaed = pd.DataFrame(pcaed, index = icts_scaled.index, columns = column_name)"
   ]
  },
  {
   "cell_type": "code",
   "execution_count": 11,
   "metadata": {},
   "outputs": [],
   "source": [
    "parameter_search_DBSCAN = pd.DataFrame(columns = ['eps', 'score'], index = range(1,200))\n",
    "parameter_search_KMEANS = pd.DataFrame(columns = ['n_of_cluster', 'score'], index = range(1,5))"
   ]
  },
  {
   "cell_type": "code",
   "execution_count": 12,
   "metadata": {},
   "outputs": [],
   "source": [
    "for i in range(1,200): #적합한 parameter search\n",
    "    eps = i/10\n",
    "    model = DBSCAN(eps = eps, min_samples = 2)\n",
    "    output = model.fit_predict(pcaed)\n",
    "    try:\n",
    "        score = silhouette_score(pcaed, output)\n",
    "        parameter_search_DBSCAN['eps'][i] = eps\n",
    "        parameter_search_DBSCAN['score'][i] = score\n",
    "        \n",
    "    except:\n",
    "        parameter_search_DBSCAN['eps'][i] = eps\n",
    "        parameter_search_DBSCAN['score'][i] = 0\n",
    "        \n",
    "for i in range(1,5):\n",
    "    model = KMeans(n_clusters = i)\n",
    "    output = model.fit_predict(pcaed)\n",
    "    try:\n",
    "        score = silhouette_score(pcaed, output)\n",
    "        parameter_search_KMEANS['n_of_cluster'][i] = i\n",
    "        parameter_search_KMEANS['score'][i] = score\n",
    "        \n",
    "    except:\n",
    "        parameter_search_KMEANS['n_of_cluster'][i] = i\n",
    "        parameter_search_KMEANS['score'][i] = 0"
   ]
  },
  {
   "cell_type": "code",
   "execution_count": 13,
   "metadata": {},
   "outputs": [],
   "source": [
    "Optimized_DBSCAN = parameter_search_DBSCAN[parameter_search_DBSCAN['score'] == parameter_search_DBSCAN['score'].max()]\n",
    "Optimized_Kmeans = parameter_search_KMEANS[parameter_search_KMEANS['score'] == parameter_search_KMEANS['score'].max()]"
   ]
  },
  {
   "cell_type": "code",
   "execution_count": 14,
   "metadata": {},
   "outputs": [
    {
     "name": "stdout",
     "output_type": "stream",
     "text": [
      "Model: DBSCAN\n",
      "eps: 3.5\n",
      "Score: 0.4134580046461787\n"
     ]
    }
   ],
   "source": [
    "if Optimized_DBSCAN['score'].max() > Optimized_Kmeans['score'].max():\n",
    "    Optimized_Model = 'DBSCAN'\n",
    "    Optimized_eps = Optimized_DBSCAN['eps'].min()\n",
    "    silhouette_score = Optimized_DBSCAN['score'].min()\n",
    "else:\n",
    "    Optimized_Model = 'KMEANS'\n",
    "    Optimized_cluster = Optimized_Kmeans['n_of_cluster'].min()\n",
    "    silhouette_score = Optimized_Kmeans['score'].min()\n",
    "    \n",
    "print('Model:', Optimized_Model)\n",
    "print('eps:', Optimized_eps)\n",
    "print('Score:', silhouette_score)"
   ]
  },
  {
   "cell_type": "code",
   "execution_count": 15,
   "metadata": {},
   "outputs": [],
   "source": [
    "model = DBSCAN(eps = Optimized_eps, min_samples = 2)\n",
    "output = model.fit_predict(pcaed)"
   ]
  },
  {
   "cell_type": "code",
   "execution_count": 16,
   "metadata": {},
   "outputs": [],
   "source": [
    "icts['Cluster'] = output\n",
    "icts = icts[icts['Cluster'] != -1] #cluster outlier 제거"
   ]
  },
  {
   "cell_type": "code",
   "execution_count": 17,
   "metadata": {},
   "outputs": [],
   "source": [
    "level_matrix_0 = icts[icts['Cluster'] ==0]\n",
    "level_matrix_0.drop(['Cluster'], axis = 1, inplace = True)"
   ]
  },
  {
   "cell_type": "code",
   "execution_count": 18,
   "metadata": {},
   "outputs": [],
   "source": [
    "level_scaler = MinMaxScaler()\n",
    "level_scaler.fit(level_matrix_0)\n",
    "level_matrix = pd.DataFrame(level_scaler.transform(level_matrix_0), index = level_matrix_0.index, columns = level_matrix_0.columns)"
   ]
  },
  {
   "cell_type": "code",
   "execution_count": 19,
   "metadata": {},
   "outputs": [
    {
     "name": "stdout",
     "output_type": "stream",
     "text": [
      "R²= 0.6023413270206257\n"
     ]
    },
    {
     "data": {
      "text/html": [
       "<div>\n",
       "<style scoped>\n",
       "    .dataframe tbody tr th:only-of-type {\n",
       "        vertical-align: middle;\n",
       "    }\n",
       "\n",
       "    .dataframe tbody tr th {\n",
       "        vertical-align: top;\n",
       "    }\n",
       "\n",
       "    .dataframe thead th {\n",
       "        text-align: right;\n",
       "    }\n",
       "</style>\n",
       "<table border=\"1\" class=\"dataframe\">\n",
       "  <thead>\n",
       "    <tr style=\"text-align: right;\">\n",
       "      <th></th>\n",
       "      <th>평당금액2</th>\n",
       "      <th>사업체 창업률</th>\n",
       "      <th>교통매력도</th>\n",
       "      <th>주택매력도</th>\n",
       "      <th>직업매력도</th>\n",
       "      <th>총생활인구</th>\n",
       "      <th>청소년생활인구</th>\n",
       "      <th>청년생활인구</th>\n",
       "      <th>장년생활인구</th>\n",
       "      <th>사업체밀도</th>\n",
       "    </tr>\n",
       "  </thead>\n",
       "  <tbody>\n",
       "    <tr>\n",
       "      <th>Coef</th>\n",
       "      <td>-0.167382</td>\n",
       "      <td>0.12956</td>\n",
       "      <td>-0.784949</td>\n",
       "      <td>0.246527</td>\n",
       "      <td>0.916639</td>\n",
       "      <td>0.287449</td>\n",
       "      <td>-0.070096</td>\n",
       "      <td>-0.248258</td>\n",
       "      <td>-0.22625</td>\n",
       "      <td>0.276799</td>\n",
       "    </tr>\n",
       "  </tbody>\n",
       "</table>\n",
       "</div>"
      ],
      "text/plain": [
       "         평당금액2  사업체 창업률     교통매력도     주택매력도     직업매력도     총생활인구   청소년생활인구  \\\n",
       "Coef -0.167382  0.12956 -0.784949  0.246527  0.916639  0.287449 -0.070096   \n",
       "\n",
       "        청년생활인구   장년생활인구     사업체밀도  \n",
       "Coef -0.248258 -0.22625  0.276799  "
      ]
     },
     "metadata": {},
     "output_type": "display_data"
    }
   ],
   "source": [
    "X = icts_scaled[['평당금액2', '사업체 창업률', '교통매력도', '주택매력도', '직업매력도', '총생활인구', '청소년생활인구',\n",
    "       '청년생활인구', '장년생활인구', '사업체밀도']]\n",
    "y =  icts_scaled['정보통신업']\n",
    "\n",
    "regression = LinearRegression().fit(X,y)\n",
    "print( \"R²=\", regression.score(X, y) )\n",
    "\n",
    "Check = pd.DataFrame(columns = ['Coef'], index = ['평당금액2', '사업체 창업률', '교통매력도', '주택매력도', '직업매력도', '총생활인구', '청소년생활인구',\n",
    "       '청년생활인구', '장년생활인구', '사업체밀도'])\n",
    "Check['Coef'] = regression.coef_\n",
    "\n",
    "Check = Check.T\n",
    "\n",
    "display(Check)"
   ]
  },
  {
   "cell_type": "code",
   "execution_count": 20,
   "metadata": {},
   "outputs": [],
   "source": [
    "level_1 = {'정보통신업','직업매력도'} #점수 위계\n",
    "level_2 = {'총생활인구', '사업체밀도', '주택매력도'}\n",
    "level_3 = {'사업체 창업률'}\n",
    "level_4 = {'평당금액2', '교통매력도', '청소년생활인구', '청년생활인구', '장년생활인구'}\n",
    "\n",
    "w_level_1 = 1 #점수가중치\n",
    "w_level_2 = 0.75\n",
    "w_level_3 = 0.5\n",
    "w_level_4 = 0.25\n",
    "\n",
    "final_score = 0"
   ]
  },
  {
   "cell_type": "code",
   "execution_count": 21,
   "metadata": {},
   "outputs": [],
   "source": [
    "for column in level_matrix.columns:\n",
    "    if column in level_1:\n",
    "        final_score = final_score + level_matrix[column]*w_level_1\n",
    "    elif column in level_2:\n",
    "        final_score = final_score + level_matrix[column]*w_level_2\n",
    "    elif column in level_3:\n",
    "        final_score = final_score + level_matrix[column]*w_level_3\n",
    "    elif column in level_4:\n",
    "        final_score = final_score + level_matrix[column]*w_level_4\n",
    "    else: print(column,'error')"
   ]
  },
  {
   "cell_type": "code",
   "execution_count": 22,
   "metadata": {},
   "outputs": [],
   "source": [
    "final_score = pd.DataFrame(final_score, columns = ['Score'])\n",
    "final_score.sort_values(by = 'Score', ascending = False, inplace = True)"
   ]
  },
  {
   "cell_type": "code",
   "execution_count": 23,
   "metadata": {},
   "outputs": [
    {
     "data": {
      "text/html": [
       "<div>\n",
       "<style scoped>\n",
       "    .dataframe tbody tr th:only-of-type {\n",
       "        vertical-align: middle;\n",
       "    }\n",
       "\n",
       "    .dataframe tbody tr th {\n",
       "        vertical-align: top;\n",
       "    }\n",
       "\n",
       "    .dataframe thead th {\n",
       "        text-align: right;\n",
       "    }\n",
       "</style>\n",
       "<table border=\"1\" class=\"dataframe\">\n",
       "  <thead>\n",
       "    <tr style=\"text-align: right;\">\n",
       "      <th></th>\n",
       "      <th>Score</th>\n",
       "    </tr>\n",
       "    <tr>\n",
       "      <th>동</th>\n",
       "      <th></th>\n",
       "    </tr>\n",
       "  </thead>\n",
       "  <tbody>\n",
       "    <tr>\n",
       "      <th>역삼동</th>\n",
       "      <td>3.189510</td>\n",
       "    </tr>\n",
       "    <tr>\n",
       "      <th>서교동</th>\n",
       "      <td>2.776544</td>\n",
       "    </tr>\n",
       "    <tr>\n",
       "      <th>신사동</th>\n",
       "      <td>2.648200</td>\n",
       "    </tr>\n",
       "    <tr>\n",
       "      <th>신문로1가</th>\n",
       "      <td>2.599402</td>\n",
       "    </tr>\n",
       "    <tr>\n",
       "      <th>망원동</th>\n",
       "      <td>2.550455</td>\n",
       "    </tr>\n",
       "  </tbody>\n",
       "</table>\n",
       "</div>"
      ],
      "text/plain": [
       "          Score\n",
       "동              \n",
       "역삼동    3.189510\n",
       "서교동    2.776544\n",
       "신사동    2.648200\n",
       "신문로1가  2.599402\n",
       "망원동    2.550455"
      ]
     },
     "execution_count": 23,
     "metadata": {},
     "output_type": "execute_result"
    }
   ],
   "source": [
    "TOP5_정보통신업 = final_score[:5]\n",
    "TOP5_정보통신업"
   ]
  },
  {
   "cell_type": "code",
   "execution_count": 62,
   "metadata": {},
   "outputs": [],
   "source": [
    "# 전문, 과학 및 기술 서비스업\n",
    "sp_service = dataset.drop(['정보통신업','교육 서비스업', '금융 및 보험업', '도매 및 소매업', '부동산업',\n",
    "       '사업시설 관리, 사업지원 및 임대 서비스업'], axis = 1)\n",
    "sp_service = sp_service[sp_service['전문, 과학 및 기술 서비스업']>5]"
   ]
  },
  {
   "cell_type": "code",
   "execution_count": null,
   "metadata": {},
   "outputs": [],
   "source": [
    "from sklearn.metrics import silhouette_score, silhouette_samples"
   ]
  },
  {
   "cell_type": "code",
   "execution_count": 63,
   "metadata": {},
   "outputs": [],
   "source": [
    "sp_service.index = sp_service['동']\n",
    "sp_service.drop(['동'], axis = 1, inplace = True)"
   ]
  },
  {
   "cell_type": "code",
   "execution_count": 64,
   "metadata": {},
   "outputs": [],
   "source": [
    "sp_service_scaled = pd.DataFrame(StandardScaler().fit_transform(sp_service), index = sp_service.index, columns = sp_service.columns)"
   ]
  },
  {
   "cell_type": "code",
   "execution_count": 65,
   "metadata": {},
   "outputs": [
    {
     "data": {
      "image/png": "[encoded data removed]",
      "text/plain": [
       "<Figure size 432x288 with 1 Axes>"
      ]
     },
     "metadata": {
      "needs_background": "light"
     },
     "output_type": "display_data"
    }
   ],
   "source": [
    "pca = PCA()\n",
    "\n",
    "# # Determine transformed features # \n",
    "X_train_pca = pca.fit_transform(sp_service_scaled[sp_service_scaled.columns[:]]) \n",
    "# # Determine explained variance using explained_variance_ration_ attribute\n",
    "exp_var_pca = pca.explained_variance_ratio_ \n",
    "# # Cumulative sum of eigenvalues; This will be used to create step plot # for visualizing the variance explained by each principal component. \n",
    "cum_sum_eigenvalues = np.cumsum(exp_var_pca)\n",
    "# # Create the visualization plot # \n",
    "plt.bar(range(0,len(exp_var_pca)), exp_var_pca, alpha=0.5, align='center', label='Individual explained variance')\n",
    "plt.step(range(0,len(cum_sum_eigenvalues)), cum_sum_eigenvalues, where='mid',label='Cumulative explained variance')\n",
    "plt.ylabel('Explained variance ratio')\n",
    "plt.xlabel('Principal component index')\n",
    "plt.legend(loc='best')\n",
    "plt.tight_layout()\n",
    "plt.show()"
   ]
  },
  {
   "cell_type": "code",
   "execution_count": 66,
   "metadata": {},
   "outputs": [
    {
     "data": {
      "text/html": [
       "<div>\n",
       "<style scoped>\n",
       "    .dataframe tbody tr th:only-of-type {\n",
       "        vertical-align: middle;\n",
       "    }\n",
       "\n",
       "    .dataframe tbody tr th {\n",
       "        vertical-align: top;\n",
       "    }\n",
       "\n",
       "    .dataframe thead th {\n",
       "        text-align: right;\n",
       "    }\n",
       "</style>\n",
       "<table border=\"1\" class=\"dataframe\">\n",
       "  <thead>\n",
       "    <tr style=\"text-align: right;\">\n",
       "      <th></th>\n",
       "      <th>0</th>\n",
       "      <th>1</th>\n",
       "      <th>2</th>\n",
       "      <th>3</th>\n",
       "      <th>4</th>\n",
       "      <th>5</th>\n",
       "      <th>6</th>\n",
       "      <th>7</th>\n",
       "      <th>8</th>\n",
       "      <th>9</th>\n",
       "      <th>10</th>\n",
       "    </tr>\n",
       "  </thead>\n",
       "  <tbody>\n",
       "    <tr>\n",
       "      <th>exp_var_pca</th>\n",
       "      <td>0.334015</td>\n",
       "      <td>0.252312</td>\n",
       "      <td>0.124895</td>\n",
       "      <td>0.102206</td>\n",
       "      <td>0.073556</td>\n",
       "      <td>0.051819</td>\n",
       "      <td>0.023175</td>\n",
       "      <td>0.019230</td>\n",
       "      <td>0.010603</td>\n",
       "      <td>0.007358</td>\n",
       "      <td>0.00083</td>\n",
       "    </tr>\n",
       "    <tr>\n",
       "      <th>cum_sum_eigenvalues</th>\n",
       "      <td>0.334015</td>\n",
       "      <td>0.586327</td>\n",
       "      <td>0.711222</td>\n",
       "      <td>0.813428</td>\n",
       "      <td>0.886983</td>\n",
       "      <td>0.938803</td>\n",
       "      <td>0.961978</td>\n",
       "      <td>0.981208</td>\n",
       "      <td>0.991812</td>\n",
       "      <td>0.999170</td>\n",
       "      <td>1.00000</td>\n",
       "    </tr>\n",
       "  </tbody>\n",
       "</table>\n",
       "</div>"
      ],
      "text/plain": [
       "                           0         1         2         3         4   \\\n",
       "exp_var_pca          0.334015  0.252312  0.124895  0.102206  0.073556   \n",
       "cum_sum_eigenvalues  0.334015  0.586327  0.711222  0.813428  0.886983   \n",
       "\n",
       "                           5         6         7         8         9        10  \n",
       "exp_var_pca          0.051819  0.023175  0.019230  0.010603  0.007358  0.00083  \n",
       "cum_sum_eigenvalues  0.938803  0.961978  0.981208  0.991812  0.999170  1.00000  "
      ]
     },
     "execution_count": 66,
     "metadata": {},
     "output_type": "execute_result"
    }
   ],
   "source": [
    "exp_var2 = pd.DataFrame(exp_var_pca)\n",
    "cum_sum_eigenvalues2 = pd.DataFrame(cum_sum_eigenvalues)\n",
    "\n",
    "exp_var2.columns = ['exp_var_pca']\n",
    "cum_sum_eigenvalues2.columns = ['cum_sum_eigenvalues']\n",
    "\n",
    "explainable = pd.concat([exp_var2, cum_sum_eigenvalues2], axis=1).T\n",
    "explainable.columns = [i for i in range(0, len(sp_service_scaled.columns))]\n",
    "explainable"
   ]
  },
  {
   "cell_type": "code",
   "execution_count": 67,
   "metadata": {},
   "outputs": [],
   "source": [
    "Ex = explainable.T\n",
    "appropriate_n = Ex[Ex['cum_sum_eigenvalues']>0.88].index.min() #전체 변수를 88%이상 설명할 수 있는 "
   ]
  },
  {
   "cell_type": "code",
   "execution_count": 68,
   "metadata": {},
   "outputs": [],
   "source": [
    "pca = PCA(n_components = appropriate_n)\n",
    "pcaed2 = pca.fit_transform(sp_service_scaled)"
   ]
  },
  {
   "cell_type": "code",
   "execution_count": 69,
   "metadata": {},
   "outputs": [],
   "source": [
    "column_name = ['pca1','pca2','pca3','pca4']\n",
    "pcaed2 = pd.DataFrame(pcaed2, index = sp_service_scaled.index, columns = column_name)"
   ]
  },
  {
   "cell_type": "code",
   "execution_count": 70,
   "metadata": {},
   "outputs": [],
   "source": [
    "parameter_search_DBSCAN2 = pd.DataFrame(columns = ['eps', 'score'], index = range(1,200))\n",
    "parameter_search_KMEANS2 = pd.DataFrame(columns = ['n_of_cluster', 'score'], index = range(1,5))"
   ]
  },
  {
   "cell_type": "code",
   "execution_count": 71,
   "metadata": {},
   "outputs": [],
   "source": [
    "for i in range(1,200): #적합한 parameter search\n",
    "    eps = i/10\n",
    "    model = DBSCAN(eps = eps, min_samples = 2)\n",
    "    output = model.fit_predict(pcaed2)\n",
    "    try:\n",
    "        score = silhouette_score(pcaed2, output)\n",
    "        parameter_search_DBSCAN2['eps'][i] = eps\n",
    "        parameter_search_DBSCAN2['score'][i] = score\n",
    "        \n",
    "    except:\n",
    "        parameter_search_DBSCAN2['eps'][i] = eps\n",
    "        parameter_search_DBSCAN2['score'][i] = 0\n",
    "        \n",
    "for i in range(1,5):\n",
    "    model = KMeans(n_clusters = i)\n",
    "    output = model.fit_predict(pcaed2)\n",
    "    try:\n",
    "        score = silhouette_score(pcaed2, output)\n",
    "        parameter_search_KMEANS2['n_of_cluster'][i] = i\n",
    "        parameter_search_KMEANS2['score'][i] = score\n",
    "        \n",
    "    except:\n",
    "        parameter_search_KMEANS2['n_of_cluster'][i] = i\n",
    "        parameter_search_KMEANS2['score'][i] = 0"
   ]
  },
  {
   "cell_type": "code",
   "execution_count": 72,
   "metadata": {},
   "outputs": [],
   "source": [
    "Optimized_DBSCAN2 = parameter_search_DBSCAN2[parameter_search_DBSCAN2['score'] == parameter_search_DBSCAN2['score'].max()]\n",
    "Optimized_Kmeans2 = parameter_search_KMEANS2[parameter_search_KMEANS2['score'] == parameter_search_KMEANS2['score'].max()]"
   ]
  },
  {
   "cell_type": "code",
   "execution_count": 74,
   "metadata": {},
   "outputs": [
    {
     "name": "stdout",
     "output_type": "stream",
     "text": [
      "Model: DBSCAN\n",
      "eps: 3.2\n",
      "Score: 0.43483438738505725\n"
     ]
    }
   ],
   "source": [
    "if Optimized_DBSCAN2['score'].max() > Optimized_Kmeans2['score'].max():\n",
    "    Optimized_Model = 'DBSCAN'\n",
    "    Optimized_eps = Optimized_DBSCAN2['eps'].min()\n",
    "    silhouette_score = Optimized_DBSCAN2['score'].min()\n",
    "else:\n",
    "    Optimized_Model = 'KMEANS'\n",
    "    Optimized_cluster = Optimized_Kmeans2['n_of_cluster'].min()\n",
    "    silhouette_score = Optimized_Kmeans2['score'].min()\n",
    "    \n",
    "print('Model:', Optimized_Model)\n",
    "print('eps:', Optimized_eps)\n",
    "print('Score:', silhouette_score)"
   ]
  },
  {
   "cell_type": "code",
   "execution_count": 36,
   "metadata": {},
   "outputs": [],
   "source": [
    "model = DBSCAN(eps = 3.2, min_samples = 2)\n",
    "output = model.fit_predict(pcaed2)"
   ]
  },
  {
   "cell_type": "code",
   "execution_count": 37,
   "metadata": {},
   "outputs": [],
   "source": [
    "sp_service['Cluster'] = output\n",
    "sp_service = sp_service[sp_service['Cluster'] != -1] #cluster outlier 제거"
   ]
  },
  {
   "cell_type": "code",
   "execution_count": 38,
   "metadata": {},
   "outputs": [],
   "source": [
    "level_matrix_1 = sp_service[sp_service['Cluster'] ==0]\n",
    "level_matrix_1.drop(['Cluster'], axis = 1, inplace = True)"
   ]
  },
  {
   "cell_type": "code",
   "execution_count": 39,
   "metadata": {},
   "outputs": [],
   "source": [
    "level_scaler2 = MinMaxScaler()\n",
    "level_scaler2.fit(level_matrix_1)\n",
    "level_matrix2 = pd.DataFrame(level_scaler2.transform(level_matrix_1), index = level_matrix_1.index, columns = level_matrix_1.columns)"
   ]
  },
  {
   "cell_type": "code",
   "execution_count": 40,
   "metadata": {},
   "outputs": [
    {
     "name": "stdout",
     "output_type": "stream",
     "text": [
      "R²= 0.5085870758884674\n"
     ]
    },
    {
     "data": {
      "text/html": [
       "<div>\n",
       "<style scoped>\n",
       "    .dataframe tbody tr th:only-of-type {\n",
       "        vertical-align: middle;\n",
       "    }\n",
       "\n",
       "    .dataframe tbody tr th {\n",
       "        vertical-align: top;\n",
       "    }\n",
       "\n",
       "    .dataframe thead th {\n",
       "        text-align: right;\n",
       "    }\n",
       "</style>\n",
       "<table border=\"1\" class=\"dataframe\">\n",
       "  <thead>\n",
       "    <tr style=\"text-align: right;\">\n",
       "      <th></th>\n",
       "      <th>평당금액2</th>\n",
       "      <th>사업체 창업률</th>\n",
       "      <th>교통매력도</th>\n",
       "      <th>주택매력도</th>\n",
       "      <th>직업매력도</th>\n",
       "      <th>총생활인구</th>\n",
       "      <th>청소년생활인구</th>\n",
       "      <th>청년생활인구</th>\n",
       "      <th>장년생활인구</th>\n",
       "      <th>사업체밀도</th>\n",
       "    </tr>\n",
       "  </thead>\n",
       "  <tbody>\n",
       "    <tr>\n",
       "      <th>Coef</th>\n",
       "      <td>-0.13386</td>\n",
       "      <td>0.11366</td>\n",
       "      <td>-0.749973</td>\n",
       "      <td>0.276709</td>\n",
       "      <td>0.672421</td>\n",
       "      <td>-1.900583</td>\n",
       "      <td>0.313311</td>\n",
       "      <td>0.085569</td>\n",
       "      <td>1.52965</td>\n",
       "      <td>0.219686</td>\n",
       "    </tr>\n",
       "  </tbody>\n",
       "</table>\n",
       "</div>"
      ],
      "text/plain": [
       "        평당금액2  사업체 창업률     교통매력도     주택매력도     직업매력도     총생활인구   청소년생활인구  \\\n",
       "Coef -0.13386  0.11366 -0.749973  0.276709  0.672421 -1.900583  0.313311   \n",
       "\n",
       "        청년생활인구   장년생활인구     사업체밀도  \n",
       "Coef  0.085569  1.52965  0.219686  "
      ]
     },
     "metadata": {},
     "output_type": "display_data"
    }
   ],
   "source": [
    "X = sp_service_scaled[['평당금액2', '사업체 창업률', '교통매력도', '주택매력도', '직업매력도', '총생활인구', '청소년생활인구',\n",
    "       '청년생활인구', '장년생활인구', '사업체밀도']]\n",
    "y =  sp_service_scaled['전문, 과학 및 기술 서비스업']\n",
    "\n",
    "regression = LinearRegression().fit(X,y)\n",
    "print( \"R²=\", regression.score(X, y) )\n",
    "\n",
    "Check = pd.DataFrame(columns = ['Coef'], index = ['평당금액2', '사업체 창업률', '교통매력도', '주택매력도', '직업매력도', '총생활인구', '청소년생활인구',\n",
    "       '청년생활인구', '장년생활인구', '사업체밀도'])\n",
    "Check['Coef'] = regression.coef_\n",
    "\n",
    "Check = Check.T\n",
    "\n",
    "display(Check)"
   ]
  },
  {
   "cell_type": "code",
   "execution_count": 41,
   "metadata": {},
   "outputs": [],
   "source": [
    "level_1 = {'전문, 과학 및 기술 서비스업','장년생활인구'}\n",
    "level_2 = {'직업매력도', '청소년생활인구', '주택매력도'}\n",
    "level_3 = {'사업체 창업률','청년생활인구', '사업체밀도'}\n",
    "level_4 = {'평당금액2','교통매력도', '총생활인구'}\n",
    "\n",
    "w_level_1 = 1\n",
    "w_level_2 = 0.75\n",
    "w_level_3 = 0.5\n",
    "w_level_4 = 0.25\n",
    "\n",
    "final_score = 0"
   ]
  },
  {
   "cell_type": "code",
   "execution_count": 42,
   "metadata": {},
   "outputs": [],
   "source": [
    "for column in level_matrix2.columns:\n",
    "    if column in level_1:\n",
    "        final_score = final_score + level_matrix2[column]*w_level_1\n",
    "    elif column in level_2:\n",
    "        final_score = final_score + level_matrix2[column]*w_level_2\n",
    "    elif column in level_3:\n",
    "        final_score = final_score + level_matrix2[column]*w_level_3\n",
    "    elif column in level_4:\n",
    "        final_score = final_score + level_matrix2[column]*w_level_4\n",
    "    else: print(column,'error')"
   ]
  },
  {
   "cell_type": "code",
   "execution_count": 43,
   "metadata": {},
   "outputs": [],
   "source": [
    "final_score = pd.DataFrame(final_score, columns = ['Score'])\n",
    "final_score.sort_values(by = 'Score', ascending = False, inplace = True)"
   ]
  },
  {
   "cell_type": "code",
   "execution_count": 44,
   "metadata": {},
   "outputs": [
    {
     "data": {
      "text/html": [
       "<div>\n",
       "<style scoped>\n",
       "    .dataframe tbody tr th:only-of-type {\n",
       "        vertical-align: middle;\n",
       "    }\n",
       "\n",
       "    .dataframe tbody tr th {\n",
       "        vertical-align: top;\n",
       "    }\n",
       "\n",
       "    .dataframe thead th {\n",
       "        text-align: right;\n",
       "    }\n",
       "</style>\n",
       "<table border=\"1\" class=\"dataframe\">\n",
       "  <thead>\n",
       "    <tr style=\"text-align: right;\">\n",
       "      <th></th>\n",
       "      <th>Score</th>\n",
       "    </tr>\n",
       "    <tr>\n",
       "      <th>동</th>\n",
       "      <th></th>\n",
       "    </tr>\n",
       "  </thead>\n",
       "  <tbody>\n",
       "    <tr>\n",
       "      <th>역삼동</th>\n",
       "      <td>3.844416</td>\n",
       "    </tr>\n",
       "    <tr>\n",
       "      <th>신사동</th>\n",
       "      <td>3.337607</td>\n",
       "    </tr>\n",
       "    <tr>\n",
       "      <th>논현동</th>\n",
       "      <td>3.117641</td>\n",
       "    </tr>\n",
       "    <tr>\n",
       "      <th>망원동</th>\n",
       "      <td>3.079817</td>\n",
       "    </tr>\n",
       "    <tr>\n",
       "      <th>서교동</th>\n",
       "      <td>2.998773</td>\n",
       "    </tr>\n",
       "  </tbody>\n",
       "</table>\n",
       "</div>"
      ],
      "text/plain": [
       "        Score\n",
       "동            \n",
       "역삼동  3.844416\n",
       "신사동  3.337607\n",
       "논현동  3.117641\n",
       "망원동  3.079817\n",
       "서교동  2.998773"
      ]
     },
     "execution_count": 44,
     "metadata": {},
     "output_type": "execute_result"
    }
   ],
   "source": [
    "TOP5_전문서비스업 = final_score[:5]\n",
    "TOP5_전문서비스업"
   ]
  },
  {
   "cell_type": "code",
   "execution_count": null,
   "metadata": {},
   "outputs": [],
   "source": []
  }
 ],
 "metadata": {
  "kernelspec": {
   "display_name": "Python 3",
   "language": "python",
   "name": "python3"
  },
  "language_info": {
   "codemirror_mode": {
    "name": "ipython",
    "version": 3
   },
   "file_extension": ".py",
   "mimetype": "text/x-python",
   "name": "python",
   "nbconvert_exporter": "python",
   "pygments_lexer": "ipython3",
   "version": "3.9.6"
  }
 },
 "nbformat": 4,
 "nbformat_minor": 2
}
